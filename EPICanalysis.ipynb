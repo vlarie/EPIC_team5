{
 "cells": [
  {
   "cell_type": "markdown",
   "metadata": {},
   "source": [
    "## Dependencies"
   ]
  },
  {
   "cell_type": "code",
   "execution_count": 1,
   "metadata": {},
   "outputs": [
    {
     "name": "stdout",
     "output_type": "stream",
     "text": [
      "Enabling notebook extension jupyter-js-widgets/extension...\n",
      "      - Validating: \u001b[32mOK\u001b[0m\n",
      "Enabling notebook extension jupyter-gmaps/extension...\n",
      "      - Validating: \u001b[32mOK\u001b[0m\n"
     ]
    }
   ],
   "source": [
    "# Confirmed needed dependencies\n",
    "import pandas as pd\n",
    "import sys\n",
    "\n",
    "# Dependencies for mapping\n",
    "import gmplot\n",
    "\n",
    "# Dependency for Heat Mapper\n",
    "import gmaps\n",
    "\n",
    "from config import google_API_Key\n",
    "\n",
    "from ipywidgets.embed import embed_minimal_html\n",
    "\n",
    "!jupyter nbextension enable --py --sys-prefix widgetsnbextension\n",
    "!jupyter nbextension enable --py --sys-prefix gmaps"
   ]
  },
  {
   "cell_type": "markdown",
   "metadata": {},
   "source": [
    "## File inputs/outputs"
   ]
  },
  {
   "cell_type": "code",
   "execution_count": 2,
   "metadata": {},
   "outputs": [],
   "source": [
    "randLatLon_csv = \"./Data/Archived/randomLatLon.csv\" \n",
    "addressList_csv = \"./Data/Archived/addressList.csv\"\n",
    "masterDataCLEAN_csv = \"./Data/masterDataCLEAN.csv\"\n",
    "crime_df = pd.read_csv('./Data/crimeFixedLatLon.csv')\n",
    "crimeSev_df = pd.read_csv('./Data/crimeDescSeverity.csv')"
   ]
  },
  {
   "cell_type": "markdown",
   "metadata": {},
   "source": [
    "## Helpful Functions"
   ]
  },
  {
   "cell_type": "code",
   "execution_count": null,
   "metadata": {},
   "outputs": [],
   "source": [
    "#############################\n",
    "##### VALERIE'S BLOCKS #####\n",
    "###########################\n",
    "\n",
    "# Funtion for reading CSV in as DataFrame\n",
    "def csvDF(oldCSVfilepath):\n",
    "    csvIN = pd.read_csv(oldCSVfilepath)\n",
    "    DF = pd.DataFrame(csvIN)\n",
    "    return DF\n",
    "\n",
    "# Function for converting DataFrame to CSV\n",
    "def DFcsv(dataframe, newCSVfilepath):\n",
    "    dataframe.to_csv(newCSVfilepath, index=False, header=True)\n",
    "    print(f\"Successfully written to '{newCSVfilepath}'\")\n",
    "    \n",
    "# Function for reading in csv, checking for headers, and appending if appropriate\n",
    "def csvDFappend(oldCSVfilepath, newColumn):\n",
    "    csvIN = pd.read_csv(oldCSVfilepath)\n",
    "    DF = pd.DataFrame(csvIN)\n",
    "    # Checking to ensure new header name does not match any current headers\n",
    "    colNames = DF.columns\n",
    "    for value in colNames:\n",
    "        if value == newColumn:\n",
    "            print(\"Cannot append column that matches an existing column name\")\n",
    "            return DF\n",
    "    # Check to ensure length of newColumn matches length of current dataframe columns\n",
    "    if len(newColumn) != len(DF):\n",
    "        print(\"Cannot append column that is not the same length as existing dataframe\")\n",
    "        return DF\n",
    "    # Append newColumn to Dataframe\n",
    "    DF[newColumn] = newColumn\n",
    "    return DF"
   ]
  },
  {
   "cell_type": "markdown",
   "metadata": {},
   "source": [
    "## Heat Mapper"
   ]
  },
  {
   "cell_type": "code",
   "execution_count": 34,
   "metadata": {},
   "outputs": [],
   "source": [
    "# Troy's section\n",
    "\n",
    "\n",
    "gmaps.configure(api_key=google_API_Key)"
   ]
  },
  {
   "cell_type": "code",
   "execution_count": null,
   "metadata": {},
   "outputs": [],
   "source": [
    "# This cell uses gmaps library to create a google heat map from the data in a master data file.\n",
    "# The masterData csv file is taken as input\n",
    "# The lat and lon columns are taken as the coordinates for hte heatmap \n",
    "# The user specified column is taken as the weighting valies fo each coordinate point\n",
    "\n",
    "df = masterData_df\n",
    "columnToMap = 'valueToMap'\n",
    "max_intensity = df[columnToMap].max()\n",
    "\n",
    "fig = gmaps.figure()\n",
    "heatmap_layer = gmaps.heatmap_layer(df[['lat', 'lon']], weights=df[columnToMap], max_intensity=max_intensity, point_radius=10.0)\n",
    "fig.add_layer(heatmap_layer)\n",
    "fig"
   ]
  },
  {
   "cell_type": "code",
   "execution_count": null,
   "metadata": {},
   "outputs": [],
   "source": [
    "#####This is currently not working as a fucntion. for expediency I suggest we past teh heatmapper code into a cell as needed\n",
    "\n",
    "# # this is a function version of the cell above\n",
    "# # the function takes columnToMap as the weights for the points defined by 'lat' and 'lon' columns in the dataframe\n",
    "# # the dataframe can be included as a parameter, if it is not included masterData_df is assumed\n",
    "\n",
    "# def heatMapper(columnToMap, df = masterData_df):\n",
    "    \n",
    "#     max_intensity = df[columnToMap].max()\n",
    "    \n",
    "#     fig = gmaps.figure()\n",
    "#     heatmap_layer = gmaps.heatmap_layer(df[['lat', 'lon']], weights=df[columnToMap], max_intensity=max_intensity, point_radius=10.0)\n",
    "#     fig.add_layer(heatmap_layer)\n",
    "\n",
    "#     return;"
   ]
  },
  {
   "cell_type": "code",
   "execution_count": null,
   "metadata": {},
   "outputs": [],
   "source": [
    "heatMapper(columnToMap = 'valueToMap')\n",
    "fig"
   ]
  },
  {
   "cell_type": "markdown",
   "metadata": {},
   "source": [
    "## Commute Time Analysis"
   ]
  },
  {
   "cell_type": "code",
   "execution_count": 3,
   "metadata": {},
   "outputs": [
    {
     "data": {
      "text/html": [
       "<div>\n",
       "<style scoped>\n",
       "    .dataframe tbody tr th:only-of-type {\n",
       "        vertical-align: middle;\n",
       "    }\n",
       "\n",
       "    .dataframe tbody tr th {\n",
       "        vertical-align: top;\n",
       "    }\n",
       "\n",
       "    .dataframe thead th {\n",
       "        text-align: right;\n",
       "    }\n",
       "</style>\n",
       "<table border=\"1\" class=\"dataframe\">\n",
       "  <thead>\n",
       "    <tr style=\"text-align: right;\">\n",
       "      <th></th>\n",
       "      <th>Zillow ID</th>\n",
       "      <th>address</th>\n",
       "      <th>zipcode</th>\n",
       "      <th>alat</th>\n",
       "      <th>alon</th>\n",
       "      <th>valuation</th>\n",
       "      <th>sqft</th>\n",
       "      <th>value sqft</th>\n",
       "      <th>neighborhood</th>\n",
       "      <th>tractCode</th>\n",
       "      <th>countyFips</th>\n",
       "      <th>stateFips</th>\n",
       "      <th>commuteTime</th>\n",
       "      <th>CommuteScore</th>\n",
       "    </tr>\n",
       "  </thead>\n",
       "  <tbody>\n",
       "    <tr>\n",
       "      <th>0</th>\n",
       "      <td>29498621</td>\n",
       "      <td>8113 West Gate Boulevard</td>\n",
       "      <td>78745</td>\n",
       "      <td>30.197589</td>\n",
       "      <td>-97.828106</td>\n",
       "      <td>265572.0</td>\n",
       "      <td>940.0</td>\n",
       "      <td>282.52</td>\n",
       "      <td>Cherry Creek</td>\n",
       "      <td>1728</td>\n",
       "      <td>453</td>\n",
       "      <td>48</td>\n",
       "      <td>27.7</td>\n",
       "      <td>46.048110</td>\n",
       "    </tr>\n",
       "    <tr>\n",
       "      <th>1</th>\n",
       "      <td>29440641</td>\n",
       "      <td>2109 Red Stone Lane</td>\n",
       "      <td>78727</td>\n",
       "      <td>30.418454</td>\n",
       "      <td>-97.696190</td>\n",
       "      <td>249696.0</td>\n",
       "      <td>1359.0</td>\n",
       "      <td>183.74</td>\n",
       "      <td>Tomanet Estates</td>\n",
       "      <td>1848</td>\n",
       "      <td>453</td>\n",
       "      <td>48</td>\n",
       "      <td>21.4</td>\n",
       "      <td>67.697595</td>\n",
       "    </tr>\n",
       "    <tr>\n",
       "      <th>2</th>\n",
       "      <td>29345444</td>\n",
       "      <td>9 Glen Rock Drive</td>\n",
       "      <td>78738</td>\n",
       "      <td>30.341187</td>\n",
       "      <td>-97.984049</td>\n",
       "      <td>472040.0</td>\n",
       "      <td>2896.0</td>\n",
       "      <td>163.00</td>\n",
       "      <td>NaN</td>\n",
       "      <td>1773</td>\n",
       "      <td>453</td>\n",
       "      <td>48</td>\n",
       "      <td>30.8</td>\n",
       "      <td>35.395189</td>\n",
       "    </tr>\n",
       "    <tr>\n",
       "      <th>3</th>\n",
       "      <td>29613796</td>\n",
       "      <td>8333 Alvin High Lane</td>\n",
       "      <td>78729</td>\n",
       "      <td>30.460441</td>\n",
       "      <td>-97.761118</td>\n",
       "      <td>307384.0</td>\n",
       "      <td>1983.0</td>\n",
       "      <td>155.01</td>\n",
       "      <td>Hunter's Chase</td>\n",
       "      <td>20411</td>\n",
       "      <td>491</td>\n",
       "      <td>48</td>\n",
       "      <td>27.0</td>\n",
       "      <td>48.453608</td>\n",
       "    </tr>\n",
       "    <tr>\n",
       "      <th>4</th>\n",
       "      <td>29358809</td>\n",
       "      <td>5300 Valburn Circle</td>\n",
       "      <td>78731</td>\n",
       "      <td>30.374096</td>\n",
       "      <td>-97.775259</td>\n",
       "      <td>941669.0</td>\n",
       "      <td>4376.0</td>\n",
       "      <td>215.19</td>\n",
       "      <td>North Cat Mountain</td>\n",
       "      <td>1705</td>\n",
       "      <td>453</td>\n",
       "      <td>48</td>\n",
       "      <td>20.3</td>\n",
       "      <td>71.477663</td>\n",
       "    </tr>\n",
       "  </tbody>\n",
       "</table>\n",
       "</div>"
      ],
      "text/plain": [
       "   Zillow ID                   address  zipcode       alat       alon  \\\n",
       "0   29498621  8113 West Gate Boulevard    78745  30.197589 -97.828106   \n",
       "1   29440641       2109 Red Stone Lane    78727  30.418454 -97.696190   \n",
       "2   29345444         9 Glen Rock Drive    78738  30.341187 -97.984049   \n",
       "3   29613796      8333 Alvin High Lane    78729  30.460441 -97.761118   \n",
       "4   29358809       5300 Valburn Circle    78731  30.374096 -97.775259   \n",
       "\n",
       "   valuation    sqft  value sqft        neighborhood  tractCode  countyFips  \\\n",
       "0   265572.0   940.0      282.52        Cherry Creek       1728         453   \n",
       "1   249696.0  1359.0      183.74     Tomanet Estates       1848         453   \n",
       "2   472040.0  2896.0      163.00                 NaN       1773         453   \n",
       "3   307384.0  1983.0      155.01      Hunter's Chase      20411         491   \n",
       "4   941669.0  4376.0      215.19  North Cat Mountain       1705         453   \n",
       "\n",
       "   stateFips  commuteTime  CommuteScore  \n",
       "0         48         27.7     46.048110  \n",
       "1         48         21.4     67.697595  \n",
       "2         48         30.8     35.395189  \n",
       "3         48         27.0     48.453608  \n",
       "4         48         20.3     71.477663  "
      ]
     },
     "execution_count": 3,
     "metadata": {},
     "output_type": "execute_result"
    }
   ],
   "source": [
    "# Troy's section\n",
    "# This section will prepare the data and display on a heatmap\n",
    "\n",
    "# read in masterdata file into dataframe\n",
    "\n",
    "data_df = pd.read_csv(masterDataCLEAN_csv)\n",
    "\n",
    "min = data_df.commuteTime.min()\n",
    "max = data_df.commuteTime.max()\n",
    "\n",
    "data_df[\"CommuteScore\"] =100-((data_df.commuteTime-min)*(100/(max-min)))\n",
    "\n",
    "data_df.head()\n"
   ]
  },
  {
   "cell_type": "code",
   "execution_count": 4,
   "metadata": {},
   "outputs": [
    {
     "data": {
      "application/vnd.jupyter.widget-view+json": {
       "model_id": "5cd9fa034ee9434093326d2cefad9d32",
       "version_major": 2,
       "version_minor": 0
      },
      "text/html": [
       "<p>Failed to display Jupyter Widget of type <code>Figure</code>.</p>\n",
       "<p>\n",
       "  If you're reading this message in the Jupyter Notebook or JupyterLab Notebook, it may mean\n",
       "  that the widgets JavaScript is still loading. If this message persists, it\n",
       "  likely means that the widgets JavaScript library is either not installed or\n",
       "  not enabled. See the <a href=\"https://ipywidgets.readthedocs.io/en/stable/user_install.html\">Jupyter\n",
       "  Widgets Documentation</a> for setup instructions.\n",
       "</p>\n",
       "<p>\n",
       "  If you're reading this message in another frontend (for example, a static\n",
       "  rendering on GitHub or <a href=\"https://nbviewer.jupyter.org/\">NBViewer</a>),\n",
       "  it may mean that your frontend doesn't currently support widgets.\n",
       "</p>\n"
      ],
      "text/plain": [
       "Figure(layout=FigureLayout(height='420px', margin='0 auto 0 auto', width='500px'))"
      ]
     },
     "metadata": {},
     "output_type": "display_data"
    }
   ],
   "source": [
    "# Creating a heat map for the Commute scores\n",
    "\n",
    "df = data_df\n",
    "columnToMap = 'CommuteScore'\n",
    "point_radius = 5\n",
    "\n",
    "\n",
    "max_intensity = df[columnToMap].max()\n",
    "\n",
    "figure_layout = {'width': '500px', 'margin': '0 auto 0 auto'}\n",
    "\n",
    "\n",
    "fig = gmaps.figure(layout=figure_layout)\n",
    "heatmap_layer = gmaps.heatmap_layer(df[['alat', 'alon']], weights=df[columnToMap], max_intensity=max_intensity, point_radius=point_radius)\n",
    "fig.add_layer(heatmap_layer)\n",
    "\n",
    "fig"
   ]
  },
  {
   "cell_type": "code",
   "execution_count": 5,
   "metadata": {},
   "outputs": [],
   "source": [
    "# Change the heat map colors\n",
    "heatmap_layer.gradient = ['white','green','blue']"
   ]
  },
  {
   "cell_type": "code",
   "execution_count": 63,
   "metadata": {},
   "outputs": [],
   "source": [
    "embed_minimal_html('./Visuals/commuteHeatMap.html', views=[fig])"
   ]
  },
  {
   "cell_type": "markdown",
   "metadata": {},
   "source": [
    "## Regression Analysis"
   ]
  },
  {
   "cell_type": "code",
   "execution_count": 68,
   "metadata": {},
   "outputs": [
    {
     "name": "stdout",
     "output_type": "stream",
     "text": [
      "Intercept      250139.857625\n",
      "sqft              308.018961\n",
      "commuteTime    -15954.874641\n",
      "dtype: float64\n"
     ]
    }
   ],
   "source": [
    "import statsmodels.formula.api as sm\n",
    "data_df = pd.read_csv(masterDataClean_csv)\n",
    "\n",
    "result = sm.ols(formula=\"valuation ~ sqft + commuteTime\", data=data_df).fit()\n",
    "print(result.params)"
   ]
  },
  {
   "cell_type": "markdown",
   "metadata": {},
   "source": [
    "## Crime Analysis"
   ]
  },
  {
   "cell_type": "code",
   "execution_count": null,
   "metadata": {},
   "outputs": [],
   "source": [
    "# Kat's section to add 20x20 grid to Austin map\n",
    "\n",
    "#Cleaning up the crime data\n",
    "crime_df = crime_df.drop(columns=['Unnamed: 0'])\n",
    "crime_df = crime_df.dropna()"
   ]
  },
  {
   "cell_type": "code",
   "execution_count": null,
   "metadata": {},
   "outputs": [],
   "source": [
    "#Setting up the bins and labels\n",
    "\n",
    "xBin = [29.9849664775403, 30.0139206956278, 30.0428749137153, 30.0718291318028, 30.1007833498903, 30.1297375679778, 30.1586917860653, 30.1876460041528, 30.2166002222403, 30.2455544403278, 30.2745086584153, 30.3034628765028, 30.3324170945903, 30.3613713126778, 30.3903255307653, 30.4192797488528, 30.4482339669403, 30.4771881850278, 30.5061424031153, 30.5350966212028, 30.5640508392903]\n",
    "yBin = [-98.0300375832746, -98.0010750258248, -97.972112468375, -97.9431499109252, -97.9141873534754, -97.8852247960256, -97.8562622385758, -97.827299681126, -97.7983371236762, -97.7693745662264, -97.7404120087766, -97.7114494513268, -97.682486893877, -97.6535243364272, -97.6245617789774, -97.5955992215276, -97.5666366640778, -97.537674106628, -97.5087115491782, -97.4797489917284, -97.4507864342786]\n",
    "xRegion = [\"A\",\"B\",\"C\",\"D\",\"E\",\"F\",\"G\",\"H\",\"I\",\"J\",\"K\",\"L\",\"M\",\"N\",\"O\",\"P\",\"Q\",\"R\",\"S\",\"T\"]\n",
    "yRegion = ['1','2','3','4','5','6','7','8','9','10','11','12','13','14','15','16','17','18','19','20']"
   ]
  },
  {
   "cell_type": "code",
   "execution_count": null,
   "metadata": {},
   "outputs": [],
   "source": [
    "# Adding Region to masterData dataframe\n",
    "\n",
    "address_df = pd.read_csv(masterDataCLEAN_csv)\n",
    "\n",
    "address_df[\"xRegion\"] = pd.cut(address_df[\"alat\"], xBin, labels=xRegion)\n",
    "address_df[\"yRegion\"] = pd.cut(address_df[\"alon\"], yBin, labels=yRegion)\n",
    "\n",
    "address_df['Region'] = address_df['xRegion'].astype(str) + address_df['yRegion'].astype(str)\n",
    "\n",
    "address_df = address_df.drop(columns=['xRegion', 'yRegion'])"
   ]
  },
  {
   "cell_type": "code",
   "execution_count": null,
   "metadata": {},
   "outputs": [],
   "source": [
    "# Adding Region to crime dataframe\n",
    "\n",
    "crime_df[\"xRegion\"] = pd.cut(crime_df[\"lat\"], xBin, labels=xRegion)\n",
    "crime_df[\"yRegion\"] = pd.cut(crime_df[\"lng\"], yBin, labels=yRegion)\n",
    "\n",
    "crime_df['Region'] = crime_df['xRegion'].astype(str) + crime_df['yRegion'].astype(str)\n",
    "\n",
    "crime_df = crime_df.drop(columns=['xRegion', 'yRegion'])"
   ]
  },
  {
   "cell_type": "code",
   "execution_count": null,
   "metadata": {},
   "outputs": [],
   "source": [
    "# Merging crime dataframe with group severity numbers\n",
    "\n",
    "crime_comb = pd.merge(crime_df, crimeSev_df[['Offense Desc', 'Severity']], how = 'left', on = 'Offense Desc')"
   ]
  },
  {
   "cell_type": "code",
   "execution_count": null,
   "metadata": {},
   "outputs": [],
   "source": [
    "# Giving each region a 'Severity' rating by summing up weights of different crimes\n",
    "\n",
    "crimeRegion = pd.DataFrame(crime_comb.groupby(by='Region')['Severity'].sum())\n",
    "crimeRegion = crimeRegion.reset_index(level=0)"
   ]
  },
  {
   "cell_type": "code",
   "execution_count": null,
   "metadata": {},
   "outputs": [],
   "source": [
    "crime_data = pd.merge(address_df, crimeRegion, how='left', on='Region')"
   ]
  }
 ],
 "metadata": {
  "kernelspec": {
   "display_name": "Python 3",
   "language": "python",
   "name": "python3"
  },
  "language_info": {
   "codemirror_mode": {
    "name": "ipython",
    "version": 3
   },
   "file_extension": ".py",
   "mimetype": "text/x-python",
   "name": "python",
   "nbconvert_exporter": "python",
   "pygments_lexer": "ipython3",
   "version": "3.6.5"
  }
 },
 "nbformat": 4,
 "nbformat_minor": 2
}
