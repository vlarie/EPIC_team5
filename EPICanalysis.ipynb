{
 "cells": [
  {
   "cell_type": "markdown",
   "metadata": {},
   "source": [
    "## Dependencies"
   ]
  },
  {
   "cell_type": "code",
   "execution_count": 61,
   "metadata": {},
   "outputs": [
    {
     "name": "stdout",
     "output_type": "stream",
     "text": [
      "Enabling notebook extension jupyter-js-widgets/extension...\n",
      "      - Validating: \u001b[32mOK\u001b[0m\n",
      "Enabling notebook extension jupyter-gmaps/extension...\n",
      "      - Validating: \u001b[32mOK\u001b[0m\n"
     ]
    }
   ],
   "source": [
    "# Confirmed needed dependencies\n",
    "import pandas as pd\n",
    "import sys\n",
    "\n",
    "# Dependencies for mapping\n",
    "import gmplot\n",
    "\n",
    "# Dependency for Heat Mapper\n",
    "import gmaps\n",
    "\n",
    "from config import google_API_Key\n",
    "\n",
    "from ipywidgets.embed import embed_minimal_html\n",
    "\n",
    "!jupyter nbextension enable --py --sys-prefix widgetsnbextension\n",
    "!jupyter nbextension enable --py --sys-prefix gmaps"
   ]
  },
  {
   "cell_type": "markdown",
   "metadata": {},
   "source": [
    "## File inputs/outputs"
   ]
  },
  {
   "cell_type": "code",
   "execution_count": 4,
   "metadata": {},
   "outputs": [],
   "source": [
     
    "randLatLon_csv = \"./Data/Archived/randomLatLon.csv\" \n",
    "addressList_csv = \"./Data/Archived/addressList.csv\"\n",
    "masterDataCLEAN_csv = \"./Data/masterDataCLEAN.csv\"\n"
   ]
  },
  {
   "cell_type": "markdown",
   "metadata": {},
   "source": [
    "## Helpful Functions"
   ]
  },
  {
   "cell_type": "code",
   "execution_count": null,
   "metadata": {},
   "outputs": [],
   "source": [
    "#############################\n",
    "##### VALERIE'S BLOCKS #####\n",
    "###########################\n",
    "\n",
    "# Funtion for reading CSV in as DataFrame\n",
    "def csvDF(oldCSVfilepath):\n",
    "    csvIN = pd.read_csv(oldCSVfilepath)\n",
    "    DF = pd.DataFrame(csvIN)\n",
    "    return DF\n",
    "\n",
    "# Function for converting DataFrame to CSV\n",
    "def DFcsv(dataframe, newCSVfilepath):\n",
    "    dataframe.to_csv(newCSVfilepath, index=False, header=True)\n",
    "    print(f\"Successfully written to '{newCSVfilepath}'\")\n",
    "    \n",
    "# Function for reading in csv, checking for headers, and appending if appropriate\n",
    "def csvDFappend(oldCSVfilepath, newColumn):\n",
    "    csvIN = pd.read_csv(oldCSVfilepath)\n",
    "    DF = pd.DataFrame(csvIN)\n",
    "    # Checking to ensure new header name does not match any current headers\n",
    "    colNames = DF.columns\n",
    "    for value in colNames:\n",
    "        if value == newColumn:\n",
    "            print(\"Cannot append column that matches an existing column name\")\n",
    "            return DF\n",
    "    # Check to ensure length of newColumn matches length of current dataframe columns\n",
    "    if len(newColumn) != len(DF):\n",
    "        print(\"Cannot append column that is not the same length as existing dataframe\")\n",
    "        return DF\n",
    "    # Append newColumn to Dataframe\n",
    "    DF[newColumn] = newColumn\n",
    "    return DF"

   ]
  },
  {
   "cell_type": "markdown",
   "metadata": {},
   "source": [
    "## Heat Mapper"
   ]
  },
  {
   "cell_type": "code",
   "execution_count": 34,
   "metadata": {},
   "outputs": [],
   "source": [
    "# Troy's section\n",
    "\n",
    "\n",
    "gmaps.configure(api_key=google_API_Key)"
   ]
  },
  {
   "cell_type": "code",
   "execution_count": null,
   "metadata": {},
   "outputs": [],
   "source": [
    "# This cell creates a test masterData_df by pulling in Yuta's address file and adds a column as a testm \"value to map\"\n",
    "# This cell can be deleted as soon as there is a master data file that includes a property value column or some other value to plot\n",
    "# The last digit of the zipcode is used as a value that will vary by area and a random number between 0 and 1 is added to create variation in the weights\n",
    "\n",
    "masterData_df = pd.read_csv(addressList_csv)\n",
    "zips = masterData_df[\"zipcode\"]\n",
    "valueToMap = []\n",
    "\n",
    "for zip in zips:\n",
    "    lastDigit = zip[-1:]\n",
    "#    print(last2Digits)\n",
    "    valueToMap.append(int(lastDigit) + random.uniform(0.0,1.0))\n",
    "    \n",
    "masterData_df[\"valueToMap\"] = valueToMap\n",
    "masterData_df.head()"
   ]
  },
  {
   "cell_type": "code",
   "execution_count": null,
   "metadata": {},
   "outputs": [],
   "source": [
    "# This cell uses gmaps library to create a google heat map from the data in a master data file.\n",
    "# The masterData csv file is taken as input\n",
    "# The lat and lon columns are taken as the coordinates for hte heatmap \n",
    "# The user specified column is taken as the weighting valies fo each coordinate point\n",
    "\n",
    "df = masterData_df\n",
    "columnToMap = 'valueToMap'\n",
    "max_intensity = df[columnToMap].max()\n",
    "\n",
    "fig = gmaps.figure()\n",
    "heatmap_layer = gmaps.heatmap_layer(df[['lat', 'lon']], weights=df[columnToMap], max_intensity=max_intensity, point_radius=10.0)\n",
    "fig.add_layer(heatmap_layer)\n",
    "fig"
   ]
  },
  {
   "cell_type": "code",
   "execution_count": null,
   "metadata": {},
   "outputs": [],
   "source": [
    "#####This is currently not working as a fucntion. for expediency I suggest we past teh heatmapper code into a cell as needed\n",
    "\n",
    "# # this is a function version of the cell above\n",
    "# # the function takes columnToMap as the weights for the points defined by 'lat' and 'lon' columns in the dataframe\n",
    "# # the dataframe can be included as a parameter, if it is not included masterData_df is assumed\n",
    "\n",
    "# def heatMapper(columnToMap, df = masterData_df):\n",
    "    \n",
    "#     max_intensity = df[columnToMap].max()\n",
    "    \n",
    "#     fig = gmaps.figure()\n",
    "#     heatmap_layer = gmaps.heatmap_layer(df[['lat', 'lon']], weights=df[columnToMap], max_intensity=max_intensity, point_radius=10.0)\n",
    "#     fig.add_layer(heatmap_layer)\n",
    "\n",
    "#     return;"
   ]
  },
  {
   "cell_type": "code",
   "execution_count": null,
   "metadata": {},
   "outputs": [],
   "source": [
    "heatMapper(columnToMap = 'valueToMap')\n",
    "fig"
   ]
  },
  {
   "cell_type": "markdown",
   "metadata": {},
   "source": [
    "## Commute Time Analysis"
   ]
  },
  {
   "cell_type": "code",
   "execution_count": 71,
   "metadata": {},
   "outputs": [
    {
     "data": {
      "text/html": [
       "<div>\n",
       "<style scoped>\n",
       "    .dataframe tbody tr th:only-of-type {\n",
       "        vertical-align: middle;\n",
       "    }\n",
       "\n",
       "    .dataframe tbody tr th {\n",
       "        vertical-align: top;\n",
       "    }\n",
       "\n",
       "    .dataframe thead th {\n",
       "        text-align: right;\n",
       "    }\n",
       "</style>\n",
       "<table border=\"1\" class=\"dataframe\">\n",
       "  <thead>\n",
       "    <tr style=\"text-align: right;\">\n",
       "      <th></th>\n",
       "      <th>Zillow ID</th>\n",
       "      <th>address</th>\n",
       "      <th>zipcode</th>\n",
       "      <th>alat</th>\n",
       "      <th>alon</th>\n",
       "      <th>valuation</th>\n",
       "      <th>sqft</th>\n",
       "      <th>neighborhood</th>\n",
       "      <th>tractCode</th>\n",
       "      <th>countyFips</th>\n",
       "      <th>stateFips</th>\n",
       "      <th>commuteTime</th>\n",
       "      <th>CommuteScore</th>\n",
       "    </tr>\n",
       "  </thead>\n",
       "  <tbody>\n",
       "    <tr>\n",
       "      <th>0</th>\n",
       "      <td>29498621</td>\n",
       "      <td>8113 West Gate Boulevard</td>\n",
       "      <td>78745</td>\n",
       "      <td>30.197589</td>\n",
       "      <td>-97.828106</td>\n",
       "      <td>265572.0</td>\n",
       "      <td>940.0</td>\n",
       "      <td>Cherry Creek</td>\n",
       "      <td>1728</td>\n",
       "      <td>453</td>\n",
       "      <td>48</td>\n",
       "      <td>27.7</td>\n",
       "      <td>46.048110</td>\n",
       "    </tr>\n",
       "    <tr>\n",
       "      <th>1</th>\n",
       "      <td>29440641</td>\n",
       "      <td>2109 Red Stone Lane</td>\n",
       "      <td>78727</td>\n",
       "      <td>30.418454</td>\n",
       "      <td>-97.696190</td>\n",
       "      <td>249696.0</td>\n",
       "      <td>1359.0</td>\n",
       "      <td>Tomanet Estates</td>\n",
       "      <td>1848</td>\n",
       "      <td>453</td>\n",
       "      <td>48</td>\n",
       "      <td>21.4</td>\n",
       "      <td>67.697595</td>\n",
       "    </tr>\n",
       "    <tr>\n",
       "      <th>2</th>\n",
       "      <td>29345444</td>\n",
       "      <td>9 Glen Rock Drive</td>\n",
       "      <td>78738</td>\n",
       "      <td>30.341187</td>\n",
       "      <td>-97.984049</td>\n",
       "      <td>472040.0</td>\n",
       "      <td>2896.0</td>\n",
       "      <td>NaN</td>\n",
       "      <td>1773</td>\n",
       "      <td>453</td>\n",
       "      <td>48</td>\n",
       "      <td>30.8</td>\n",
       "      <td>35.395189</td>\n",
       "    </tr>\n",
       "    <tr>\n",
       "      <th>3</th>\n",
       "      <td>29613796</td>\n",
       "      <td>8333 Alvin High Lane</td>\n",
       "      <td>78729</td>\n",
       "      <td>30.460441</td>\n",
       "      <td>-97.761118</td>\n",
       "      <td>307384.0</td>\n",
       "      <td>1983.0</td>\n",
       "      <td>Hunter's Chase</td>\n",
       "      <td>20411</td>\n",
       "      <td>491</td>\n",
       "      <td>48</td>\n",
       "      <td>27.0</td>\n",
       "      <td>48.453608</td>\n",
       "    </tr>\n",
       "    <tr>\n",
       "      <th>4</th>\n",
       "      <td>29358809</td>\n",
       "      <td>5300 Valburn Circle</td>\n",
       "      <td>78731</td>\n",
       "      <td>30.374096</td>\n",
       "      <td>-97.775259</td>\n",
       "      <td>941669.0</td>\n",
       "      <td>4376.0</td>\n",
       "      <td>North Cat Mountain</td>\n",
       "      <td>1705</td>\n",
       "      <td>453</td>\n",
       "      <td>48</td>\n",
       "      <td>20.3</td>\n",
       "      <td>71.477663</td>\n",
       "    </tr>\n",
       "  </tbody>\n",
       "</table>\n",
       "</div>"
      ],
      "text/plain": [
       "   Zillow ID                   address  zipcode       alat       alon  \\\n",
       "0   29498621  8113 West Gate Boulevard    78745  30.197589 -97.828106   \n",
       "1   29440641       2109 Red Stone Lane    78727  30.418454 -97.696190   \n",
       "2   29345444         9 Glen Rock Drive    78738  30.341187 -97.984049   \n",
       "3   29613796      8333 Alvin High Lane    78729  30.460441 -97.761118   \n",
       "4   29358809       5300 Valburn Circle    78731  30.374096 -97.775259   \n",
       "\n",
       "   valuation    sqft        neighborhood  tractCode  countyFips  stateFips  \\\n",
       "0   265572.0   940.0        Cherry Creek       1728         453         48   \n",
       "1   249696.0  1359.0     Tomanet Estates       1848         453         48   \n",
       "2   472040.0  2896.0                 NaN       1773         453         48   \n",
       "3   307384.0  1983.0      Hunter's Chase      20411         491         48   \n",
       "4   941669.0  4376.0  North Cat Mountain       1705         453         48   \n",
       "\n",
       "   commuteTime  CommuteScore  \n",
       "0         27.7     46.048110  \n",
       "1         21.4     67.697595  \n",
       "2         30.8     35.395189  \n",
       "3         27.0     48.453608  \n",
       "4         20.3     71.477663  "
      ]
     },
     "execution_count": 71,
     "metadata": {},
     "output_type": "execute_result"
    }
   ],
   "source": [
    "# Troy's section\n",
    "# This section will prepare the data and display on a heatmap\n",
    "\n",
    "# read in masterdata file into dataframe\n",
    "\n",
    "data_df = pd.read_csv(masterDataClean_csv)\n",
    "\n",
    "min = data_df.commuteTime.min()\n",
    "max = data_df.commuteTime.max()\n",
    "\n",
    "data_df[\"CommuteScore\"] =100-((data_df.commuteTime-min)*(100/(max-min)))\n",
    "\n",
    "data_df.head()\n"
   ]
  },
  {
   "cell_type": "code",
   "execution_count": 72,
   "metadata": {},
   "outputs": [
    {
     "data": {
      "application/vnd.jupyter.widget-view+json": {
       "model_id": "1656734c12b649af83cb8346a7585823",
       "version_major": 2,
       "version_minor": 0
      },
      "text/html": [
       "<p>Failed to display Jupyter Widget of type <code>Figure</code>.</p>\n",
       "<p>\n",
       "  If you're reading this message in the Jupyter Notebook or JupyterLab Notebook, it may mean\n",
       "  that the widgets JavaScript is still loading. If this message persists, it\n",
       "  likely means that the widgets JavaScript library is either not installed or\n",
       "  not enabled. See the <a href=\"https://ipywidgets.readthedocs.io/en/stable/user_install.html\">Jupyter\n",
       "  Widgets Documentation</a> for setup instructions.\n",
       "</p>\n",
       "<p>\n",
       "  If you're reading this message in another frontend (for example, a static\n",
       "  rendering on GitHub or <a href=\"https://nbviewer.jupyter.org/\">NBViewer</a>),\n",
       "  it may mean that your frontend doesn't currently support widgets.\n",
       "</p>\n"
      ],
      "text/plain": [
       "Figure(layout=FigureLayout(height='420px', margin='0 auto 0 auto', width='500px'))"
      ]
     },
     "metadata": {},
     "output_type": "display_data"
    }
   ],
   "source": [
    "# Creating a heat map fo the Commute scores\n",
    "\n",
    "df = data_df\n",
    "columnToMap = 'CommuteScore'\n",
    "point_radius = 5\n",
    "\n",
    "\n",
    "max_intensity = df[columnToMap].max()\n",
    "\n",
    "figure_layout = {'width': '500px', 'margin': '0 auto 0 auto'}\n",
    "\n",
    "\n",
    "fig = gmaps.figure(layout=figure_layout)\n",
    "heatmap_layer = gmaps.heatmap_layer(df[['alat', 'alon']], weights=df[columnToMap], max_intensity=max_intensity, point_radius=point_radius)\n",
    "fig.add_layer(heatmap_layer)\n",
    "\n",
    "fig"
   ]
  },
  {
   "cell_type": "code",
   "execution_count": 77,
   "metadata": {},
   "outputs": [],
   "source": [
    "# Change the heat map colors\n",
    "heatmap_layer.gradient = [\n",
    "    'white',\n",
    "'green',\n",
    "'blue'\n",
    "]"
   ]
  },
  {
   "cell_type": "code",
   "execution_count": 63,
   "metadata": {},
   "outputs": [],
   "source": [
    "embed_minimal_html('./Visuals/commuteHeatMap.html', views=[fig])"
   ]
  },
  {
   "cell_type": "markdown",
   "metadata": {},
   "source": [
    "## Regression Analysis"
   ]
  },
  {
   "cell_type": "code",
   "execution_count": 68,
   "metadata": {},
   "outputs": [
    {
     "name": "stdout",
     "output_type": "stream",
     "text": [
      "Intercept      250139.857625\n",
      "sqft              308.018961\n",
      "commuteTime    -15954.874641\n",
      "dtype: float64\n"
     ]
    }
   ],
   "source": [
    "import statsmodels.formula.api as sm\n",
    "data_df = pd.read_csv(masterDataClean_csv)\n",
    "\n",
    "result = sm.ols(formula=\"valuation ~ sqft + commuteTime\", data=data_df).fit()\n",
    "print(result.params)"
   ]
  },
  {
   "cell_type": "code",
   "execution_count": null,
   "metadata": {},
   "outputs": [],
   "source": []
  }
 ],
 "metadata": {
  "kernelspec": {
   "display_name": "PythonData",
   "language": "python",
   "name": "pythondata"
  },
  "language_info": {
   "codemirror_mode": {
    "name": "ipython",
    "version": 3
   },
   "file_extension": ".py",
   "mimetype": "text/x-python",
   "name": "python",
   "nbconvert_exporter": "python",
   "pygments_lexer": "ipython3",
   "version": "3.6.4"
  }
 },
 "nbformat": 4,
 "nbformat_minor": 2
}
