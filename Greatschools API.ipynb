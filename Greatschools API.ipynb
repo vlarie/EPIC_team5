{
 "cells": [
  {
   "cell_type": "code",
   "execution_count": null,
   "metadata": {},
   "outputs": [],
   "source": [
    "#receive lat and lng (x, y)\n",
    "#identify which school district\n",
    "import requests\n",
    "import json\n",
    "import pandas as pd\n",
    "import numpy as np\n",
    "\n",
    "#URL = 'https://api.greatschools.org/schools/nearby?'\n",
    "URL = 'https://api.greatschools.org/schools/nearby?[parameters]'\n",
    "#https://api.greatschools.org/schools/nearby?[parameters]\n",
    "\n",
    "#https://api.greatschools.org/schools/CA/Alameda?key=[yourAPIkey]\n",
    "\n",
    "#read excel files\n",
    "#get ranking of that school district from excel documents.  \n",
    "# column U, rows 2-465\n",
    "#ranking would be A through F \n",
    "#return school ranking\n",
    "#for ch in addressList.csv:    \n",
    "#    Lat = lat \n",
    "#    Lng = lon\n",
    "Lat = 30.26227261774732\n",
    "Lng = -97.84284886101416"
   ]
  },
  {
   "cell_type": "code",
   "execution_count": null,
   "metadata": {},
   "outputs": [],
   "source": [
    "params = {\n",
    "    'key*' : '41c6b7482243181cbb1f77b88b04eb12',\n",
    "    'state*' : 'TX',\n",
    "    'lat' : Lat,\n",
    "    'lon' : Lng,\n",
    "}\n",
    "\n",
    "school_list = requests.get(URL, params=params).json()\n",
    "\n",
    "school_list\n",
    "\n",
    "\n"
   ]
  },
  {
   "cell_type": "code",
   "execution_count": null,
   "metadata": {},
   "outputs": [],
   "source": []
  }
 ],
 "metadata": {
  "kernelspec": {
   "display_name": "Python 3",
   "language": "python",
   "name": "python3"
  },
  "language_info": {
   "codemirror_mode": {
    "name": "ipython",
    "version": 3
   },
   "file_extension": ".py",
   "mimetype": "text/x-python",
   "name": "python",
   "nbconvert_exporter": "python",
   "pygments_lexer": "ipython3",
   "version": "3.6.5"
  }
 },
 "nbformat": 4,
 "nbformat_minor": 2
}
