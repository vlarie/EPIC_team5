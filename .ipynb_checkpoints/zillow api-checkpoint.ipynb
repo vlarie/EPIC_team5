{
 "cells": [
  {
   "cell_type": "code",
   "execution_count": 2,
   "metadata": {},
   "outputs": [
    {
     "ename": "ModuleNotFoundError",
     "evalue": "No module named 'pyzillow'",
     "output_type": "error",
     "traceback": [
      "\u001b[0;31m---------------------------------------------------------------------------\u001b[0m",
      "\u001b[0;31mModuleNotFoundError\u001b[0m                       Traceback (most recent call last)",
      "\u001b[0;32m<ipython-input-2-497f6a0ec425>\u001b[0m in \u001b[0;36m<module>\u001b[0;34m()\u001b[0m\n\u001b[0;32m----> 1\u001b[0;31m \u001b[0;32mimport\u001b[0m \u001b[0mpyzillow\u001b[0m\u001b[0;34m\u001b[0m\u001b[0m\n\u001b[0m\u001b[1;32m      2\u001b[0m \u001b[0;34m\u001b[0m\u001b[0m\n\u001b[1;32m      3\u001b[0m \u001b[0;34m\u001b[0m\u001b[0m\n\u001b[1;32m      4\u001b[0m \u001b[0;32mfrom\u001b[0m \u001b[0mpyzillow\u001b[0m\u001b[0;34m.\u001b[0m\u001b[0mpyzillow\u001b[0m \u001b[0;32mimport\u001b[0m \u001b[0mZillowWrapper\u001b[0m\u001b[0;34m,\u001b[0m \u001b[0mGetDeepSearchResults\u001b[0m\u001b[0;34m\u001b[0m\u001b[0m\n\u001b[1;32m      5\u001b[0m \u001b[0maddress\u001b[0m \u001b[0;34m=\u001b[0m \u001b[0;34m'1600 Pennsylvania Ave NW, Washington, DC'\u001b[0m\u001b[0;34m\u001b[0m\u001b[0m\n",
      "\u001b[0;31mModuleNotFoundError\u001b[0m: No module named 'pyzillow'"
     ]
    }
   ],
   "source": [
    "#http://www.zillow.com/webservice/GetSearchResults.htm\n",
    "\n",
    "from pyzillow.pyzillow import ZillowWrapper, GetUpdatedPropertyDetails\n",
    "\n",
    "zillow_id = 'YOUR ZILLOW ID'\n",
    "\n",
    "zillow_data = ZillowWrapper('X1-ZWz18eh4hnzci3_2rqd6')\n",
    "updated_property_details_response = zillow_data.get_updated_property_details(zillow_id)\n",
    "result = GetUpdatedPropertyDetails(updated_property_details_response)\n",
    "...\n",
    "result.rooms # number of rooms of the home"
   ]
  },
  {
   "cell_type": "code",
   "execution_count": null,
   "metadata": {},
   "outputs": [],
   "source": []
  }
 ],
 "metadata": {
  "kernelspec": {
   "display_name": "Python 3",
   "language": "python",
   "name": "python3"
  },
  "language_info": {
   "codemirror_mode": {
    "name": "ipython",
    "version": 3
   },
   "file_extension": ".py",
   "mimetype": "text/x-python",
   "name": "python",
   "nbconvert_exporter": "python",
   "pygments_lexer": "ipython3",
   "version": "3.6.5"
  }
 },
 "nbformat": 4,
 "nbformat_minor": 2
}
