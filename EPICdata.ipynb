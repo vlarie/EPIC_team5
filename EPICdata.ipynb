{
 "cells": [
  {
   "cell_type": "markdown",
   "metadata": {},
   "source": [
    "## Dependencies"
   ]
  },
  {
   "cell_type": "code",
   "execution_count": 10,
   "metadata": {},
   "outputs": [],
   "source": [
    "# Confirmed needed dependencies\n",
    "import zillow\n",
    "import random\n",
    "import pprint\n",
    "import pandas as pd\n",
    "import requests\n",
    "import json\n",
    "\n",
    "# Dependencies for geocoordinates generator\n",
    "import sys\n",
    "import math\n",
    "import gmplot\n",
    "\n",
    "# Dependencies for conversion of coordinates to addresses\n",
    "import geopy\n",
    "from geopy.geocoders import Nominatim\n",
    "\n",
    "\n",
    "# Research how to make config.py truly invisible on GitHub Repo\n",
    "# from config import zwsid\n",
    "# Paste in your zwsid in the meantime using the following line\n",
    "# zwsid = \"\"\n",
    "\n",
    "\n",
    "\n",
    "# In README give instructions on setting config file and needed variables for project"
   ]
  },
  {
   "cell_type": "markdown",
   "metadata": {},
   "source": [
    "## File inputs/outputs"
   ]
  },
  {
   "cell_type": "code",
   "execution_count": 11,
   "metadata": {},
   "outputs": [],
   "source": [
    "randLatLon_csv = \"./Data/randomLatLon.csv\" \n",
    "addressList_csv = \"./Data/addressList.csv\"\n",
    "masterData_csv = \"./Data/masterData.csv\""
   ]
  },
  {
   "cell_type": "code",
   "execution_count": 12,
   "metadata": {},
   "outputs": [],
   "source": [
    "# Valerie\n",
    "\n",
    "# Further setting up Notebook with Markdown sections, file outputs, action comments, etc.\n",
    "# Create pandas dataframe "
   ]
  },
  {
   "cell_type": "markdown",
   "metadata": {},
   "source": [
    "## Geocoordinates of Austin"
   ]
  },
  {
   "cell_type": "code",
   "execution_count": 13,
   "metadata": {},
   "outputs": [],
   "source": [
    "##########################################\n",
    "# this section written by troy bailey.   #\n",
    "# enter uservariables below to determine #\n",
    "# center location, radius of circle, and #\n",
    "# number of geocoordinates to generate.  #\n",
    "##########################################"
   ]
  },
  {
   "cell_type": "code",
   "execution_count": 14,
   "metadata": {},
   "outputs": [],
   "source": [
    "########################\n",
    "#### USER VARIABLES ####\n",
    "########################\n",
    "\n",
    "x0 = 30.27444       #### Set center coordiantes in decimal degrees\n",
    "y0 = -97.74028      #### initial coordiantes are location of Texas State Capitol Building\n",
    "\n",
    "radius = 10         #### Set radius in miles\n",
    "\n",
    "points = 1000        #### Set number of lat,lon points to generate"
   ]
  },
  {
   "cell_type": "code",
   "execution_count": 15,
   "metadata": {},
   "outputs": [],
   "source": [
    "# variables and inputs for coordinate calculations\n",
    "lat_lon_list = []\n",
    "radiusInDegrees=radius/69           \n",
    "r = radiusInDegrees\n",
    "points = points + 1"
   ]
  },
  {
   "cell_type": "code",
   "execution_count": 16,
   "metadata": {},
   "outputs": [
    {
     "data": {
      "text/plain": [
       "1000"
      ]
     },
     "execution_count": 16,
     "metadata": {},
     "output_type": "execute_result"
    }
   ],
   "source": [
    "# calculate each coordiante point and build a list of lat and lon\n",
    "for i in range(1, points):\n",
    "    u = float(random.uniform(0.0,1.0)) #random number for radius length\n",
    "    v = float(random.uniform(0.0,1.0)) #random number for pi radians\n",
    "    \n",
    "    w = r * math.sqrt(u) #radius length\n",
    "    t = 2 * math.pi * v  #radians\n",
    "    x = w * math.cos(t)  #calculate x coord distance\n",
    "    y = w * math.sin(t)  #calculate y coord distance\n",
    "    \n",
    "    xLat  = x + x0       #offset x by center x\n",
    "    yLon = y + y0        #offset y by center y\n",
    "    \n",
    "    lat_lon_list.append([xLat,yLon])\n",
    "\n",
    "# convert list to dataframe\n",
    "lat_lon_df = pd.DataFrame(lat_lon_list, columns=['lat','lon'])\n",
    "\n",
    "lat_lon_df.head()\n",
    "\n",
    "len(lat_lon_df)"
   ]
  },
  {
   "cell_type": "code",
   "execution_count": 17,
   "metadata": {},
   "outputs": [],
   "source": [
    "# write a CSV file of coordinate points\n",
    "lat_lon_df.to_csv(randLatLon_csv, index=False, header=True)"
   ]
  },
  {
   "cell_type": "markdown",
   "metadata": {},
   "source": [
    "## Plot coordinate points on map\n"
   ]
  },
  {
   "cell_type": "code",
   "execution_count": 18,
   "metadata": {},
   "outputs": [],
   "source": [
    "# This section will plot points on a Google map centered at centerPointLat and centerPointLon with a magnification of magFactor\n",
    "# It assumes there is a dataframe with \"lat\" and \"lon\" colunms\n",
    "# The resulting map is saved to a file called \n",
    "\n",
    "centerPointLat = 30.27444  #these are the coordinates of the Texas State Capitol building\n",
    "centerPointLon = -97.74028 #these are the coordinates of the Texas State Capitol building\n",
    "magnificationFactor = 10\n",
    "pointColor = \"red\"\n",
    "pointSize = 100\n",
    "mapOutputFile = \"mymap.html\"\n",
    "df = lat_lon_df\n",
    "\n",
    "gmap = gmplot.GoogleMapPlotter(centerPointLat, centerPointLon, magnificationFactor)\n",
    "\n",
    "gmap.scatter(df[\"lat\"], df[\"lon\"], pointColor, size=pointSize, marker=False)\n",
    "\n",
    "gmap.draw(\"./Visuals/\" + mapOutputFile)"
   ]
  },
  {
   "cell_type": "markdown",
   "metadata": {},
   "source": [
    "## Convert Coordinates to Residential Addresses"
   ]
  },
  {
   "cell_type": "code",
   "execution_count": null,
   "metadata": {},
   "outputs": [],
   "source": [
    "#########################\n",
    "##### Yuta's Blocks #####\n",
    "#########################\n",
    "\n",
    "\n",
    "##### General Analysis on the Geopy Nominatim Method Below #####\n",
    "# - You can filter the address by type='house', but some houses are labeled with type='yes'\n",
    "# - 'Yes' type means means it's an unlabeled building.\n",
    "# - Quite a bit of 'yes' type buildings actually hit a residential building, so we may get a high percentage of\n",
    "#   residential buildings if we filter by 'house' or 'yes'.\n",
    "# - Out of roughly 100 requests, around 70% will result in either 'house' or 'yes' type.\n",
    "# - I can't seem to find the limit of API request, but we are throttled to 1 request per second.\n",
    "\n",
    "# Testing Geopy Nominatim API Response\n",
    "\n",
    "\n",
    "geopy.geocoders.options.default_user_agent = \"my-application\"\n",
    "\n",
    "pp = pprint.PrettyPrinter(indent=4)\n",
    "\n",
    "url = \"https://nominatim.openstreetmap.org/reverse?\"\n",
    "\n",
    "# Params 1 - Known Residential Address\n",
    "params_1 = {\n",
    "    \"format\": \"jsonv2\",\n",
    "    \"lat\": 30.440777,\n",
    "    \"lon\": -97.777048\n",
    "}\n",
    "\n",
    "print(\"===== #01 - Home Response:\")\n",
    "response_1 = requests.get(url, params=params_1).json()\n",
    "pp.pprint(response_1)\n",
    "print(\"\\n\" + \"=\"*60 + \"\\n\")"
   ]
  },
  {
   "cell_type": "code",
   "execution_count": null,
   "metadata": {},
   "outputs": [],
   "source": [
    "# Import CSV, put into DataFrame\n",
    "latlon_df = pd.read_csv(randLatLon_csv)\n",
    "latlon_df.head()"
   ]
  },
  {
   "cell_type": "code",
   "execution_count": null,
   "metadata": {},
   "outputs": [],
   "source": [
    "# Put latitudes and longitudes into a zip object\n",
    "lats = latlon_df.iloc[:, 0]\n",
    "lons = latlon_df.iloc[:, 1]\n",
    "lat_lons = []\n",
    "lat_lons = zip(lats, lons)\n",
    "\n",
    "# Might not need to do this step, see below"
   ]
  },
  {
   "cell_type": "code",
   "execution_count": null,
   "metadata": {},
   "outputs": [],
   "source": [
    "# Loop Request API and append to create new dataframe\n",
    "query_url = \"https://nominatim.openstreetmap.org/reverse?\"\n",
    "\n",
    "house_num = []\n",
    "road = []\n",
    "postcode = []\n",
    "# Verify this field is unneeded, then delete if not\n",
    "# aType = []\n",
    "lat = []\n",
    "lon = []\n",
    "neighborhood = []\n",
    "# Verify this field is unneeded, then delete if not\n",
    "# addType = []\n",
    "\n",
    "counter = 1\n",
    "numRequests = len(lats)\n",
    "\n",
    "print(f\"Processing {numRequests} Requests...\")\n",
    "\n",
    "\n",
    "# Don't actually need to zip lat and lons for this\n",
    "# can use \"for lat_lon in latlon_df.itertuples():\"\n",
    "# Check into this and see if you can cut out the zip part\n",
    "for lat_lon in lat_lons:\n",
    "    params = {\n",
    "        \"format\": \"jsonv2\",\n",
    "        \"lat\": lat_lon[0],\n",
    "        \"lon\": lat_lon[1]\n",
    "    }\n",
    "# Check to see if you can do multiple queries at the same time to make this faster\n",
    "# i.e. send batch requests/list of queries rather than loop of single queries\n",
    "    response = requests.get(query_url, params=params).json()\n",
    "    \n",
    "    if response['type'] == 'house' or response['type'] == 'yes':\n",
    "        postcode.append(response['address']['postcode'])\n",
    "#         Do we need to store aType?\n",
    "#         aType.append(response['type'])\n",
    "        lat.append(response['lat'])\n",
    "        lon.append(response['lon'])\n",
    "    \n",
    "        try:\n",
    "            house_num.append(response['address']['house_number'])\n",
    "        except (KeyError, IndexError):\n",
    "            house_num.append(\"NA\")\n",
    "        try:\n",
    "            road.append(response['address']['road'])\n",
    "        except (KeyError, IndexError):\n",
    "            road.append(\"NA\")\n",
    "        try:\n",
    "            neighborhood.append(response['address']['neighbourhood'])\n",
    "        except (KeyError, IndexError):\n",
    "            neighborhood.append(\"NA\")\n",
    "            \n",
    "# Verify this field is unneeded, then delete if not\n",
    "#         try:\n",
    "#             addType.append(response['addresstype'])\n",
    "#         except (KeyError, IndexError):\n",
    "#             addType.append(\"NA\")\n",
    "\n",
    "\n",
    "# Printing to console is good for development to see what is happening, but takes a long time.  \n",
    "# Instead of printing each line to the console, can you store these in two lists (success and failure) \n",
    "# that we could run len() on to get counts for stats later?\n",
    "        print(f\"Processed Record {counter} of {numRequests}.\")\n",
    "#         counter = counter + 1\n",
    "        counter += 1\n",
    "    else:\n",
    "        print(f\"Wrong Type - Skipped Record {counter} of {numRequests}.\")\n",
    "#         counter = counter + 1\n",
    "        counter += 1"
   ]
  },
  {
   "cell_type": "code",
   "execution_count": 19,
   "metadata": {
    "scrolled": true
   },
   "outputs": [
    {
     "ename": "NameError",
     "evalue": "name 'house_num' is not defined",
     "output_type": "error",
     "traceback": [
      "\u001b[0;31m---------------------------------------------------------------------------\u001b[0m",
      "\u001b[0;31mNameError\u001b[0m                                 Traceback (most recent call last)",
      "\u001b[0;32m<ipython-input-19-f505b0e45911>\u001b[0m in \u001b[0;36m<module>\u001b[0;34m()\u001b[0m\n\u001b[1;32m      1\u001b[0m \u001b[0;31m# Create a dataframe with all addresses from API requests\u001b[0m\u001b[0;34m\u001b[0m\u001b[0;34m\u001b[0m\u001b[0m\n\u001b[1;32m      2\u001b[0m address_df = pd.DataFrame({\n\u001b[0;32m----> 3\u001b[0;31m     \u001b[0;34m\"house #\"\u001b[0m\u001b[0;34m:\u001b[0m \u001b[0mhouse_num\u001b[0m\u001b[0;34m,\u001b[0m\u001b[0;34m\u001b[0m\u001b[0m\n\u001b[0m\u001b[1;32m      4\u001b[0m     \u001b[0;34m\"street\"\u001b[0m\u001b[0;34m:\u001b[0m \u001b[0mroad\u001b[0m\u001b[0;34m,\u001b[0m\u001b[0;34m\u001b[0m\u001b[0m\n\u001b[1;32m      5\u001b[0m     \u001b[0;34m\"zipcode\"\u001b[0m\u001b[0;34m:\u001b[0m \u001b[0mpostcode\u001b[0m\u001b[0;34m,\u001b[0m\u001b[0;34m\u001b[0m\u001b[0m\n",
      "\u001b[0;31mNameError\u001b[0m: name 'house_num' is not defined"
     ]
    }
   ],
   "source": [
    "# Create a dataframe with all addresses from API requests\n",
    "address_df = pd.DataFrame({\n",
    "    \"house #\": house_num,\n",
    "    \"street\": road,\n",
    "    \"zipcode\": postcode,\n",
    "#     \"type\": aType,\n",
    "    \"lat\": lat,\n",
    "    \"lon\": lon,\n",
    "    \"neighborhood\": neighborhood,\n",
    "#     \"address type\": addType\n",
    "})\n",
    "address_df\n",
    "\n",
    "# drop type and address type, or rather don't gather in the first place"
   ]
  },
  {
   "cell_type": "code",
   "execution_count": null,
   "metadata": {},
   "outputs": [],
   "source": [
    "# write a CSV file of addresses\n",
    "address_df.to_csv(addressList_csv, index=False, header=True)"
   ]
  },
  {
   "cell_type": "code",
   "execution_count": 20,
   "metadata": {},
   "outputs": [
    {
     "data": {
      "text/html": [
       "<div>\n",
       "<style scoped>\n",
       "    .dataframe tbody tr th:only-of-type {\n",
       "        vertical-align: middle;\n",
       "    }\n",
       "\n",
       "    .dataframe tbody tr th {\n",
       "        vertical-align: top;\n",
       "    }\n",
       "\n",
       "    .dataframe thead th {\n",
       "        text-align: right;\n",
       "    }\n",
       "</style>\n",
       "<table border=\"1\" class=\"dataframe\">\n",
       "  <thead>\n",
       "    <tr style=\"text-align: right;\">\n",
       "      <th></th>\n",
       "      <th>house #</th>\n",
       "      <th>street</th>\n",
       "      <th>zipcode</th>\n",
       "      <th>lat</th>\n",
       "      <th>lon</th>\n",
       "      <th>neighborhood</th>\n",
       "    </tr>\n",
       "  </thead>\n",
       "  <tbody>\n",
       "    <tr>\n",
       "      <th>0</th>\n",
       "      <td>4704</td>\n",
       "      <td>Carter Lane</td>\n",
       "      <td>78744</td>\n",
       "      <td>30.205996</td>\n",
       "      <td>-97.735289</td>\n",
       "      <td>Southeast Austin</td>\n",
       "    </tr>\n",
       "    <tr>\n",
       "      <th>1</th>\n",
       "      <td>9302</td>\n",
       "      <td>Creeks Edge Circle</td>\n",
       "      <td>78733</td>\n",
       "      <td>30.295867</td>\n",
       "      <td>-97.884472</td>\n",
       "      <td>NaN</td>\n",
       "    </tr>\n",
       "    <tr>\n",
       "      <th>2</th>\n",
       "      <td>5350</td>\n",
       "      <td>West US Highway 290</td>\n",
       "      <td>TX 78735</td>\n",
       "      <td>30.237296</td>\n",
       "      <td>-97.837590</td>\n",
       "      <td>Sunset Oaks</td>\n",
       "    </tr>\n",
       "    <tr>\n",
       "      <th>3</th>\n",
       "      <td>1404</td>\n",
       "      <td>Green Pastures Cove</td>\n",
       "      <td>78725</td>\n",
       "      <td>30.222968</td>\n",
       "      <td>-97.628323</td>\n",
       "      <td>Garden Valley Village</td>\n",
       "    </tr>\n",
       "    <tr>\n",
       "      <th>4</th>\n",
       "      <td>7308</td>\n",
       "      <td>Carver Avenue</td>\n",
       "      <td>78752</td>\n",
       "      <td>30.332523</td>\n",
       "      <td>-97.698403</td>\n",
       "      <td>St. Johns</td>\n",
       "    </tr>\n",
       "  </tbody>\n",
       "</table>\n",
       "</div>"
      ],
      "text/plain": [
       "  house #               street   zipcode        lat        lon  \\\n",
       "0    4704          Carter Lane     78744  30.205996 -97.735289   \n",
       "1    9302   Creeks Edge Circle     78733  30.295867 -97.884472   \n",
       "2    5350  West US Highway 290  TX 78735  30.237296 -97.837590   \n",
       "3    1404  Green Pastures Cove     78725  30.222968 -97.628323   \n",
       "4    7308        Carver Avenue     78752  30.332523 -97.698403   \n",
       "\n",
       "            neighborhood  \n",
       "0       Southeast Austin  \n",
       "1                    NaN  \n",
       "2            Sunset Oaks  \n",
       "3  Garden Valley Village  \n",
       "4              St. Johns  "
      ]
     },
     "execution_count": 20,
     "metadata": {},
     "output_type": "execute_result"
    }
   ],
   "source": [
    "# Pull from CSV\n",
    "address_sample = pd.read_csv(addressList_csv)\n",
    "address_sample.head()"
   ]
  },
  {
   "cell_type": "code",
   "execution_count": null,
   "metadata": {},
   "outputs": [],
   "source": [
    "# Map out the sample with gmplot\n",
    "\n",
    "gmap = gmplot.GoogleMapPlotter(30.27444, -97.74028, 10)\n",
    "\n",
    "gmap.scatter(address_sample[\"lat\"], address_sample[\"lon\"], 'red', size=80, marker=False)\n",
    "\n",
    "gmap.draw(\"./Visuals/myaddressmap.html\")"
   ]
  },
  {
   "cell_type": "markdown",
   "metadata": {},
   "source": [
    "## Zillow API Calls using Address and Zipcode"
   ]
  },
  {
   "cell_type": "code",
   "execution_count": null,
   "metadata": {},
   "outputs": [],
   "source": [
    "# Val create function for read in csv, check for headers?, and append csv\n",
    "\n",
    "\n",
    "# masterData.csv"
   ]
  },
  {
   "cell_type": "code",
   "execution_count": null,
   "metadata": {
    "scrolled": true
   },
   "outputs": [],
   "source": [
    "address = address_df[\"house #\"][1] + \" \" + address_df[\"street\"][1] \n",
    "zipcode = address_df[\"zipcode\"][1]\n",
    "\n",
    "print(address)\n",
    "print(zipcode)\n",
    "\n",
    "pp = pprint.PrettyPrinter(indent=4)\n",
    "\n",
    "api = zillow.ValuationApi()\n",
    "# Insert your Zillow API key here\n",
    "# zwsid = \"\"\n",
    "\n",
    "#This appears to be the ideal search to use with the most flushed out info\n",
    "deep_results = api.GetDeepSearchResults(zwsid, address, zipcode)\n",
    "pp.pprint(deep_results.get_dict())\n",
    "\n",
    "\n",
    "# This appears to return the same as .GetZEstimate(),\n",
    "# but has less accurate \"extended_data\" than .GetDeepSearchResults\n",
    "# data = api.GetSearchResults(zwsid, address, zipcode)\n",
    "# pp.pprint(data.get_dict())\n",
    "\n",
    "\n",
    "# This appears to return the same as .GetSearchResults()\n",
    "# detail_data = api.GetZEstimate(zwsid, data.zpid)\n",
    "# pp.pprint(detail_data.get_dict())"
   ]
  },
  {
   "cell_type": "markdown",
   "metadata": {},
   "source": [
    "## Calculate Value per Sqft"
   ]
  },
  {
   "cell_type": "code",
   "execution_count": null,
   "metadata": {},
   "outputs": [],
   "source": [
    "#Create function to calculate value per sqft using \"zestimate\"[\"amount\"] / \"extended_data\"[\"finished_sqft\"]\n"
   ]
  },
  {
   "cell_type": "markdown",
   "metadata": {},
   "source": [
    "## Crime Data"
   ]
  },
  {
   "cell_type": "code",
   "execution_count": null,
   "metadata": {},
   "outputs": [],
   "source": [
    "# Kat's section"
   ]
  },
  {
   "cell_type": "markdown",
   "metadata": {},
   "source": [
    "## School Data"
   ]
  },
  {
   "cell_type": "code",
   "execution_count": null,
   "metadata": {},
   "outputs": [],
   "source": [
    "# Seth's section"
   ]
  },
  {
   "cell_type": "markdown",
   "metadata": {},
   "source": [
    "## Heat Mapper"
   ]
  },
  {
   "cell_type": "code",
   "execution_count": 60,
   "metadata": {},
   "outputs": [],
   "source": [
    "# Troy's section\n",
    "\n",
    "import gmaps\n",
    "#  this labrary is best installed in the terminal with: $conda install -c conda-forge gmaps\n",
    "\n",
    "import os\n",
    "# os is needed for this next command \n",
    "# it gets the API from the os as an environment variable\n",
    "# this line needs to be added to your bash profile:  $ export GOOGLE_API_KEY=AI...\n",
    "\n",
    "gmaps.configure(api_key=os.environ[\"GOOGLE_API_KEY\"])\n",
    "    \n",
    "# os.environ[\"GOOGLE_API_KEY\"]"
   ]
  },
  {
   "cell_type": "code",
   "execution_count": 61,
   "metadata": {},
   "outputs": [
    {
     "data": {
      "text/html": [
       "<div>\n",
       "<style scoped>\n",
       "    .dataframe tbody tr th:only-of-type {\n",
       "        vertical-align: middle;\n",
       "    }\n",
       "\n",
       "    .dataframe tbody tr th {\n",
       "        vertical-align: top;\n",
       "    }\n",
       "\n",
       "    .dataframe thead th {\n",
       "        text-align: right;\n",
       "    }\n",
       "</style>\n",
       "<table border=\"1\" class=\"dataframe\">\n",
       "  <thead>\n",
       "    <tr style=\"text-align: right;\">\n",
       "      <th></th>\n",
       "      <th>house #</th>\n",
       "      <th>street</th>\n",
       "      <th>zipcode</th>\n",
       "      <th>lat</th>\n",
       "      <th>lon</th>\n",
       "      <th>neighborhood</th>\n",
       "      <th>valueToMap</th>\n",
       "    </tr>\n",
       "  </thead>\n",
       "  <tbody>\n",
       "    <tr>\n",
       "      <th>0</th>\n",
       "      <td>4704</td>\n",
       "      <td>Carter Lane</td>\n",
       "      <td>78744</td>\n",
       "      <td>30.205996</td>\n",
       "      <td>-97.735289</td>\n",
       "      <td>Southeast Austin</td>\n",
       "      <td>4.353849</td>\n",
       "    </tr>\n",
       "    <tr>\n",
       "      <th>1</th>\n",
       "      <td>9302</td>\n",
       "      <td>Creeks Edge Circle</td>\n",
       "      <td>78733</td>\n",
       "      <td>30.295867</td>\n",
       "      <td>-97.884472</td>\n",
       "      <td>NaN</td>\n",
       "      <td>3.899696</td>\n",
       "    </tr>\n",
       "    <tr>\n",
       "      <th>2</th>\n",
       "      <td>5350</td>\n",
       "      <td>West US Highway 290</td>\n",
       "      <td>TX 78735</td>\n",
       "      <td>30.237296</td>\n",
       "      <td>-97.837590</td>\n",
       "      <td>Sunset Oaks</td>\n",
       "      <td>5.409488</td>\n",
       "    </tr>\n",
       "    <tr>\n",
       "      <th>3</th>\n",
       "      <td>1404</td>\n",
       "      <td>Green Pastures Cove</td>\n",
       "      <td>78725</td>\n",
       "      <td>30.222968</td>\n",
       "      <td>-97.628323</td>\n",
       "      <td>Garden Valley Village</td>\n",
       "      <td>5.311589</td>\n",
       "    </tr>\n",
       "    <tr>\n",
       "      <th>4</th>\n",
       "      <td>7308</td>\n",
       "      <td>Carver Avenue</td>\n",
       "      <td>78752</td>\n",
       "      <td>30.332523</td>\n",
       "      <td>-97.698403</td>\n",
       "      <td>St. Johns</td>\n",
       "      <td>2.240605</td>\n",
       "    </tr>\n",
       "  </tbody>\n",
       "</table>\n",
       "</div>"
      ],
      "text/plain": [
       "  house #               street   zipcode        lat        lon  \\\n",
       "0    4704          Carter Lane     78744  30.205996 -97.735289   \n",
       "1    9302   Creeks Edge Circle     78733  30.295867 -97.884472   \n",
       "2    5350  West US Highway 290  TX 78735  30.237296 -97.837590   \n",
       "3    1404  Green Pastures Cove     78725  30.222968 -97.628323   \n",
       "4    7308        Carver Avenue     78752  30.332523 -97.698403   \n",
       "\n",
       "            neighborhood  valueToMap  \n",
       "0       Southeast Austin    4.353849  \n",
       "1                    NaN    3.899696  \n",
       "2            Sunset Oaks    5.409488  \n",
       "3  Garden Valley Village    5.311589  \n",
       "4              St. Johns    2.240605  "
      ]
     },
     "execution_count": 61,
     "metadata": {},
     "output_type": "execute_result"
    }
   ],
   "source": [
    "# This cell creates a test masterData_df by pulling in Yuta's address file and adds a column as a testm \"value to map\"\n",
    "# This cell can be deleted as soon as there is a master data file that includes a property value column or some other value to plot\n",
    "# The last digit of the zipcode is used as a value that will vary by area and a random number between 0 and 1 is added to create variation in the weights\n",
    "\n",
    "masterData_df = pd.read_csv(addressList_csv)\n",
    "zips = masterData_df[\"zipcode\"]\n",
    "valueToMap = []\n",
    "\n",
    "for zip in zips:\n",
    "    lastDigit = zip[-1:]\n",
    "#    print(last2Digits)\n",
    "    valueToMap.append(int(lastDigit) + random.uniform(0.0,1.0))\n",
    "    \n",
    "valueToMap\n",
    "\n",
    "masterData_df[\"valueToMap\"] = valueToMap\n",
    "\n",
    "\n",
    "masterData_df.head()"
   ]
  },
  {
   "cell_type": "code",
   "execution_count": 121,
   "metadata": {},
   "outputs": [
    {
     "data": {
      "application/vnd.jupyter.widget-view+json": {
       "model_id": "a18cd425536d4df4b5bd148e8d18af70",
       "version_major": 2,
       "version_minor": 0
      },
      "text/plain": [
       "Figure(layout=FigureLayout(height='420px'))"
      ]
     },
     "metadata": {},
     "output_type": "display_data"
    }
   ],
   "source": [
    "# This cell uses gmaps library to create a google heat map from the data in a master data file.\n",
    "# The masterData csv file is taken as input\n",
    "# The lat and lon columns are taken as the coordinates for hte heatmap \n",
    "# The user specified column is taken as the weighting valies fo each coordinate point\n",
    "\n",
    "df = masterData_df\n",
    "columnToMap = 'valueToMap'\n",
    "max_intensity = df[columnToMap].max()\n",
    "\n",
    "fig = gmaps.figure()\n",
    "heatmap_layer = gmaps.heatmap_layer(df[['lat', 'lon']], weights=df[columnToMap], max_intensity=max_intensity, point_radius=10.0)\n",
    "fig.add_layer(heatmap_layer)\n",
    "fig\n",
    "\n"
   ]
  },
  {
   "cell_type": "code",
   "execution_count": 140,
   "metadata": {},
   "outputs": [],
   "source": [
    "# this is a function version of the cell above\n",
    "# the function takes columnToMap as the weights for the points defined by 'lat' and 'lon' columns in the dataframe\n",
    "# the dataframe can be included as a parameter, if it is not included masterData_df is assumed\n",
    "\n",
    "def heatMapper(columnToMap, df = masterData_df):\n",
    "    \n",
    "    max_intensity = df[columnToMap].max()\n",
    "    \n",
    "    fig = gmaps.figure()\n",
    "    heatmap_layer = gmaps.heatmap_layer(df[['lat', 'lon']], weights=df[colToMap], max_intensity=max_intensity, point_radius=10.0)\n",
    "    fig.add_layer(heatmap_layer)\n",
    "\n",
    "    return;\n"
   ]
  },
  {
   "cell_type": "code",
   "execution_count": 141,
   "metadata": {},
   "outputs": [
    {
     "data": {
      "application/vnd.jupyter.widget-view+json": {
       "model_id": "a18cd425536d4df4b5bd148e8d18af70",
       "version_major": 2,
       "version_minor": 0
      },
      "text/plain": [
       "Figure(layout=FigureLayout(height='420px'))"
      ]
     },
     "metadata": {},
     "output_type": "display_data"
    }
   ],
   "source": [
    "heatMapper(columnToMap = 'valueToMap')\n",
    "fig"
   ]
  },
  {
   "cell_type": "code",
   "execution_count": null,
   "metadata": {},
   "outputs": [],
   "source": []
  }
 ],
 "metadata": {
  "kernelspec": {
   "display_name": "Python 3",
   "language": "python",
   "name": "python3"
  },
  "language_info": {
   "codemirror_mode": {
    "name": "ipython",
    "version": 3
   },
   "file_extension": ".py",
   "mimetype": "text/x-python",
   "name": "python",
   "nbconvert_exporter": "python",
   "pygments_lexer": "ipython3",
   "version": "3.6.5"
  }
 },
 "nbformat": 4,
 "nbformat_minor": 2
}
