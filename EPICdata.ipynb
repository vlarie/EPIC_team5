{
 "cells": [
  {
   "cell_type": "markdown",
   "metadata": {},
   "source": [
    "## Dependencies"
   ]
  },
  {
   "cell_type": "code",
   "execution_count": 88,
   "metadata": {},
   "outputs": [],
   "source": [
    "# Confirmed needed dependencies\n",
    "import random\n",
    "import pprint\n",
    "import pandas as pd\n",
    "import requests\n",
    "import json\n",
    "\n",
    "# Dependencies for geocoordinates generator\n",
    "import sys\n",
    "import math\n",
    "import gmplot\n",
    "\n",
    "# Dependencies for conversion of coordinates to addresses\n",
    "import geopy\n",
    "from geopy.geocoders import Nominatim\n",
    "\n",
    "# Dependencies for Zillow data\n",
    "from pyzillow.pyzillow import ZillowWrapper, GetDeepSearchResults\n",
    "# zillow id, needed for the GetUpdatedPropertyDetails\n",
    "from pyzillow.pyzillow import ZillowWrapper, GetUpdatedPropertyDetails\n",
    "\n",
    "\n",
    "# Research how to make config.py truly invisible on GitHub Repo\n",
    "from config import Zseth, Zkat, Zyuta\n",
    "# Paste in your zwsid in the meantime using the following line\n",
    "# zwsid = \"\"\n",
    "\n",
    "\n",
    "\n",
    "# In README give instructions on setting config file and needed variables for project"
   ]
  },
  {
   "cell_type": "markdown",
   "metadata": {},
   "source": [
    "## File inputs/outputs"
   ]
  },
  {
   "cell_type": "code",
   "execution_count": 15,
   "metadata": {},
   "outputs": [],
   "source": [
    "randLatLon_csv = \"./Data/randomLatLon.csv\" \n",
    "addressList_csv = \"./Data/addressList.csv\"\n",
    "masterData_csv = \"./Data/masterData.csv\""
   ]
  },
  {
   "cell_type": "code",
   "execution_count": 3,
   "metadata": {},
   "outputs": [],
   "source": [
    "# Valerie\n",
    "\n",
    "# Further setting up Notebook with Markdown sections, file outputs, action comments, etc.\n",
    "# Create pandas dataframe "
   ]
  },
  {
   "cell_type": "markdown",
   "metadata": {},
   "source": [
    "## Geocoordinates of Austin"
   ]
  },
  {
   "cell_type": "code",
   "execution_count": 4,
   "metadata": {},
   "outputs": [],
   "source": [
    "##########################################\n",
    "# this section written by troy bailey.   #\n",
    "# enter uservariables below to determine #\n",
    "# center location, radius of circle, and #\n",
    "# number of geocoordinates to generate.  #\n",
    "##########################################"
   ]
  },
  {
   "cell_type": "code",
   "execution_count": 5,
   "metadata": {},
   "outputs": [],
   "source": [
    "########################\n",
    "#### USER VARIABLES ####\n",
    "########################\n",
    "\n",
    "x0 = 30.27444       #### Set center coordiantes in decimal degrees\n",
    "y0 = -97.74028      #### initial coordiantes are location of Texas State Capitol Building\n",
    "\n",
    "radius = 10         #### Set radius in miles\n",
    "\n",
    "points = 1000        #### Set number of lat,lon points to generate"
   ]
  },
  {
   "cell_type": "code",
   "execution_count": 6,
   "metadata": {},
   "outputs": [],
   "source": [
    "# variables and inputs for coordinate calculations\n",
    "lat_lon_list = []\n",
    "radiusInDegrees=radius/69           \n",
    "r = radiusInDegrees\n",
    "points += 1"
   ]
  },
  {
   "cell_type": "code",
   "execution_count": 7,
   "metadata": {},
   "outputs": [
    {
     "data": {
      "text/plain": [
       "1000"
      ]
     },
     "execution_count": 7,
     "metadata": {},
     "output_type": "execute_result"
    }
   ],
   "source": [
    "# calculate each coordiante point and build a list of lat and lon\n",
    "for i in range(1, points):\n",
    "    u = float(random.uniform(0.0,1.0)) #random number for radius length\n",
    "    v = float(random.uniform(0.0,1.0)) #random number for pi radians\n",
    "    \n",
    "    w = r * math.sqrt(u) #radius length\n",
    "    t = 2 * math.pi * v  #radians\n",
    "    x = w * math.cos(t)  #calculate x coord distance\n",
    "    y = w * math.sin(t)  #calculate y coord distance\n",
    "    \n",
    "    xLat  = x + x0       #offset x by center x\n",
    "    yLon = y + y0        #offset y by center y\n",
    "    \n",
    "    lat_lon_list.append([xLat,yLon])\n",
    "\n",
    "# convert list to dataframe\n",
    "lat_lon_df = pd.DataFrame(lat_lon_list, columns=['lat','lon'])\n",
    "\n",
    "lat_lon_df.head()\n",
    "\n",
    "len(lat_lon_df)"
   ]
  },
  {
   "cell_type": "code",
   "execution_count": 8,
   "metadata": {},
   "outputs": [],
   "source": [
    "# write a CSV file of coordinate points\n",
    "lat_lon_df.to_csv(randLatLon_csv, index=False, header=True)"
   ]
  },
  {
   "cell_type": "markdown",
   "metadata": {},
   "source": [
    "## Plot coordinate points on map\n"
   ]
  },
  {
   "cell_type": "code",
   "execution_count": 9,
   "metadata": {},
   "outputs": [],
   "source": [
    "# This section will plot points on a Google map centered at centerPointLat and centerPointLon with a magnification of magFactor\n",
    "# It assumes there is a dataframe with \"lat\" and \"lon\" columns\n",
    "# The resulting map is saved to a file called \n",
    "\n",
    "centerPointLat = 30.27444  #these are the coordinates of the Texas State Capitol building\n",
    "centerPointLon = -97.74028 #these are the coordinates of the Texas State Capitol building\n",
    "magnificationFactor = 10\n",
    "pointColor = \"red\"\n",
    "pointSize = 100\n",
    "mapOutputFile = \"mymap.html\"\n",
    "df = lat_lon_df\n",
    "\n",
    "gmap = gmplot.GoogleMapPlotter(centerPointLat, centerPointLon, magnificationFactor)\n",
    "\n",
    "gmap.scatter(df[\"lat\"], df[\"lon\"], pointColor, size=pointSize, marker=False)\n",
    "\n",
    "gmap.draw(\"./Visuals/\" + mapOutputFile)"
   ]
  },
  {
   "cell_type": "markdown",
   "metadata": {},
   "source": [
    "## Convert Coordinates to Residential Addresses"
   ]
  },
  {
   "cell_type": "code",
   "execution_count": null,
   "metadata": {},
   "outputs": [],
   "source": [
    "#########################\n",
    "##### Yuta's Blocks #####\n",
    "#########################\n",
    "\n",
    "\n",
    "##### General Analysis on the Geopy Nominatim Method Below #####\n",
    "# - You can filter the address by type='house', but some houses are labeled with type='yes'\n",
    "# - 'Yes' type means means it's an unlabeled building.\n",
    "# - Quite a bit of 'yes' type buildings actually hit a residential building, so we may get a high percentage of\n",
    "#   residential buildings if we filter by 'house' or 'yes'.\n",
    "# - Out of roughly 100 requests, around 70% will result in either 'house' or 'yes' type.\n",
    "# - I can't seem to find the limit of API request, but we are throttled to 1 request per second.\n",
    "\n",
    "# Testing Geopy Nominatim API Response\n",
    "\n",
    "\n",
    "geopy.geocoders.options.default_user_agent = \"my-application\"\n",
    "\n",
    "pp = pprint.PrettyPrinter(indent=4)\n",
    "\n",
    "url = \"https://nominatim.openstreetmap.org/reverse?\"\n",
    "\n",
    "# Params 1 - Known Residential Address\n",
    "params_1 = {\n",
    "    \"format\": \"jsonv2\",\n",
    "    \"lat\": 30.440777,\n",
    "    \"lon\": -97.777048\n",
    "}\n",
    "\n",
    "print(\"===== #01 - Home Response:\")\n",
    "response_1 = requests.get(url, params=params_1).json()\n",
    "pp.pprint(response_1)\n",
    "print(\"\\n\" + \"=\"*60 + \"\\n\")"
   ]
  },
  {
   "cell_type": "code",
   "execution_count": null,
   "metadata": {},
   "outputs": [],
   "source": [
    "# Import CSV, put into DataFrame\n",
    "latlon_df = pd.read_csv(randLatLon_csv)\n",
    "latlon_df.head()"
   ]
  },
  {
   "cell_type": "code",
   "execution_count": null,
   "metadata": {},
   "outputs": [],
   "source": [
    "# Put latitudes and longitudes into a zip object\n",
    "lats = latlon_df.iloc[:, 0]\n",
    "lons = latlon_df.iloc[:, 1]\n",
    "lat_lons = []\n",
    "lat_lons = zip(lats, lons)\n",
    "\n",
    "# Might not need to do this step, see below"
   ]
  },
  {
   "cell_type": "code",
   "execution_count": null,
   "metadata": {},
   "outputs": [],
   "source": [
    "# Loop Request API and append to create new dataframe\n",
    "query_url = \"https://nominatim.openstreetmap.org/reverse?\"\n",
    "\n",
    "house_num = []\n",
    "road = []\n",
    "postcode = []\n",
    "# Verify this field is unneeded, then delete if not\n",
    "# aType = []\n",
    "lat = []\n",
    "lon = []\n",
    "neighborhood = []\n",
    "# Verify this field is unneeded, then delete if not\n",
    "# addType = []\n",
    "\n",
    "counter = 1\n",
    "numRequests = len(lats)\n",
    "\n",
    "print(f\"Processing {numRequests} Requests...\")\n",
    "\n",
    "\n",
    "# Don't actually need to zip lat and lons for this\n",
    "# can use \"for lat_lon in latlon_df.itertuples():\"\n",
    "# Check into this and see if you can cut out the zip part\n",
    "for lat_lon in lat_lons:\n",
    "    params = {\n",
    "        \"format\": \"jsonv2\",\n",
    "        \"lat\": lat_lon[0],\n",
    "        \"lon\": lat_lon[1]\n",
    "    }\n",
    "# Check to see if you can do multiple queries at the same time to make this faster\n",
    "# i.e. send batch requests/list of queries rather than loop of single queries\n",
    "    response = requests.get(query_url, params=params).json()\n",
    "    \n",
    "    if response['type'] == 'house' or response['type'] == 'yes':\n",
    "        postcode.append(response['address']['postcode'])\n",
    "#         Do we need to store aType?\n",
    "#         aType.append(response['type'])\n",
    "        lat.append(response['lat'])\n",
    "        lon.append(response['lon'])\n",
    "    \n",
    "        try:\n",
    "            house_num.append(response['address']['house_number'])\n",
    "        except (KeyError, IndexError):\n",
    "            house_num.append(\"NA\")\n",
    "        try:\n",
    "            road.append(response['address']['road'])\n",
    "        except (KeyError, IndexError):\n",
    "            road.append(\"NA\")\n",
    "        try:\n",
    "            neighborhood.append(response['address']['neighbourhood'])\n",
    "        except (KeyError, IndexError):\n",
    "            neighborhood.append(\"NA\")\n",
    "            \n",
    "# Verify this field is unneeded, then delete if not\n",
    "#         try:\n",
    "#             addType.append(response['addresstype'])\n",
    "#         except (KeyError, IndexError):\n",
    "#             addType.append(\"NA\")\n",
    "\n",
    "\n",
    "# Printing to console is good for development to see what is happening, but takes a long time.  \n",
    "# Instead of printing each line to the console, can you store these in two lists (success and failure) \n",
    "# that we could run len() on to get counts for stats later?\n",
    "        print(f\"Processed Record {counter} of {numRequests}.\")\n",
    "#         counter = counter + 1\n",
    "        counter += 1\n",
    "    else:\n",
    "        print(f\"Wrong Type - Skipped Record {counter} of {numRequests}.\")\n",
    "#         counter = counter + 1\n",
    "        counter += 1"
   ]
  },
  {
   "cell_type": "code",
   "execution_count": 14,
   "metadata": {
    "scrolled": true
   },
   "outputs": [
    {
     "ename": "NameError",
     "evalue": "name 'house_num' is not defined",
     "output_type": "error",
     "traceback": [
      "\u001b[0;31m---------------------------------------------------------------------------\u001b[0m",
      "\u001b[0;31mNameError\u001b[0m                                 Traceback (most recent call last)",
      "\u001b[0;32m<ipython-input-19-f505b0e45911>\u001b[0m in \u001b[0;36m<module>\u001b[0;34m()\u001b[0m\n\u001b[1;32m      1\u001b[0m \u001b[0;31m# Create a dataframe with all addresses from API requests\u001b[0m\u001b[0;34m\u001b[0m\u001b[0;34m\u001b[0m\u001b[0m\n\u001b[1;32m      2\u001b[0m address_df = pd.DataFrame({\n\u001b[0;32m----> 3\u001b[0;31m     \u001b[0;34m\"house #\"\u001b[0m\u001b[0;34m:\u001b[0m \u001b[0mhouse_num\u001b[0m\u001b[0;34m,\u001b[0m\u001b[0;34m\u001b[0m\u001b[0m\n\u001b[0m\u001b[1;32m      4\u001b[0m     \u001b[0;34m\"street\"\u001b[0m\u001b[0;34m:\u001b[0m \u001b[0mroad\u001b[0m\u001b[0;34m,\u001b[0m\u001b[0;34m\u001b[0m\u001b[0m\n\u001b[1;32m      5\u001b[0m     \u001b[0;34m\"zipcode\"\u001b[0m\u001b[0;34m:\u001b[0m \u001b[0mpostcode\u001b[0m\u001b[0;34m,\u001b[0m\u001b[0;34m\u001b[0m\u001b[0m\n",
      "\u001b[0;31mNameError\u001b[0m: name 'house_num' is not defined"
     ]
    }
   ],
   "source": [
    "# Create a dataframe with all addresses from API requests\n",
    "address_df = pd.DataFrame({\n",
    "    \"house #\": house_num,\n",
    "    \"street\": road,\n",
    "    \"zipcode\": postcode,\n",
    "#     \"type\": aType,\n",
    "    \"lat\": lat,\n",
    "    \"lon\": lon,\n",
    "    \"neighborhood\": neighborhood,\n",
    "#     \"address type\": addType\n",
    "})\n",
    "address_df\n",
    "\n",
    "# drop type and address type, or rather don't gather in the first place"
   ]
  },
  {
   "cell_type": "code",
   "execution_count": null,
   "metadata": {},
   "outputs": [],
   "source": [
    "# write a CSV file of addresses\n",
    "address_df.to_csv(addressList_csv, index=False, header=True)"
   ]
  },
  {
   "cell_type": "code",
   "execution_count": 20,
   "metadata": {},
   "outputs": [
    {
     "data": {
      "text/html": [
       "<div>\n",
       "<style scoped>\n",
       "    .dataframe tbody tr th:only-of-type {\n",
       "        vertical-align: middle;\n",
       "    }\n",
       "\n",
       "    .dataframe tbody tr th {\n",
       "        vertical-align: top;\n",
       "    }\n",
       "\n",
       "    .dataframe thead th {\n",
       "        text-align: right;\n",
       "    }\n",
       "</style>\n",
       "<table border=\"1\" class=\"dataframe\">\n",
       "  <thead>\n",
       "    <tr style=\"text-align: right;\">\n",
       "      <th></th>\n",
       "      <th>house #</th>\n",
       "      <th>street</th>\n",
       "      <th>zipcode</th>\n",
       "      <th>lat</th>\n",
       "      <th>lon</th>\n",
       "      <th>neighborhood</th>\n",
       "    </tr>\n",
       "  </thead>\n",
       "  <tbody>\n",
       "    <tr>\n",
       "      <th>0</th>\n",
       "      <td>4704</td>\n",
       "      <td>Carter Lane</td>\n",
       "      <td>78744</td>\n",
       "      <td>30.205996</td>\n",
       "      <td>-97.735289</td>\n",
       "      <td>Southeast Austin</td>\n",
       "    </tr>\n",
       "    <tr>\n",
       "      <th>1</th>\n",
       "      <td>4804</td>\n",
       "      <td>Precipice Cove</td>\n",
       "      <td>78731</td>\n",
       "      <td>30.341652</td>\n",
       "      <td>-97.785410</td>\n",
       "      <td>Cat Mountain</td>\n",
       "    </tr>\n",
       "    <tr>\n",
       "      <th>2</th>\n",
       "      <td>2110</td>\n",
       "      <td>West Slaughter Lane</td>\n",
       "      <td>78748</td>\n",
       "      <td>30.175305</td>\n",
       "      <td>-97.825010</td>\n",
       "      <td>Ford Oaks</td>\n",
       "    </tr>\n",
       "    <tr>\n",
       "      <th>3</th>\n",
       "      <td>8920</td>\n",
       "      <td>Ramirez Lane</td>\n",
       "      <td>78742</td>\n",
       "      <td>30.245791</td>\n",
       "      <td>-97.647754</td>\n",
       "      <td>NaN</td>\n",
       "    </tr>\n",
       "    <tr>\n",
       "      <th>4</th>\n",
       "      <td>11266</td>\n",
       "      <td>Taylor Draper Lane</td>\n",
       "      <td>78759</td>\n",
       "      <td>30.410477</td>\n",
       "      <td>-97.752934</td>\n",
       "      <td>Angus Valley</td>\n",
       "    </tr>\n",
       "  </tbody>\n",
       "</table>\n",
       "</div>"
      ],
      "text/plain": [
       "  house #               street zipcode        lat        lon  \\\n",
       "0    9807           Brown Lane   78754  30.354341 -97.667109   \n",
       "1    4804       Precipice Cove   78731  30.341652 -97.785410   \n",
       "2    2110  West Slaughter Lane   78748  30.175305 -97.825010   \n",
       "3    8920         Ramirez Lane   78742  30.245791 -97.647754   \n",
       "4   11266   Taylor Draper Lane   78759  30.410477 -97.752934   \n",
       "\n",
       "         neighborhood  \n",
       "0  Cameron Industrial  \n",
       "1        Cat Mountain  \n",
       "2           Ford Oaks  \n",
       "3                 NaN  \n",
       "4        Angus Valley  "
      ]
     },
     "execution_count": 16,
     "metadata": {},
     "output_type": "execute_result"
    }
   ],
   "source": [
    "# Pull from CSV\n",
    "address_sample = pd.read_csv(addressList_csv)\n",
    "address_sample.head()"
   ]
  },
  {
   "cell_type": "code",
   "execution_count": 17,
   "metadata": {},
   "outputs": [],
   "source": [
    "# Map out the sample with gmplot\n",
    "\n",
    "gmap = gmplot.GoogleMapPlotter(30.27444, -97.74028, 10)\n",
    "\n",
    "gmap.scatter(address_sample[\"lat\"], address_sample[\"lon\"], 'red', size=80, marker=False)\n",
    "\n",
    "gmap.draw(\"./Visuals/myaddressmap.html\")"
   ]
  },
  {
   "cell_type": "markdown",
   "metadata": {},
   "source": [
    "## Zillow API Calls using Address and Zipcode"
   ]
  },
  {
   "cell_type": "code",
   "execution_count": null,
   "metadata": {},
   "outputs": [],
   "source": [
    "# Val create function for read in csv, check for headers?, and append csv\n",
    "address_sample = pd.read_csv(addressList_csv)\n",
    "address_df = pd.DataFrame(address_sample)\n",
    "address_df.head()\n",
    "# masterData.csv\n",
    "address = zip(address_df[\"house #\"], address_df[\"street\"])\n",
    "len(address_df)"
   ]
  },
  {
   "cell_type": "code",
   "execution_count": 76,
   "metadata": {
    "scrolled": true
   },
   "outputs": [],
   "source": [
    "################# NO LONGER USING THIS API #################\n",
    "########### HOWEVER, CODE MAY BE USED ELSEWHERE ###########\n",
    "\n",
    "# pp = pprint.PrettyPrinter(indent=4)\n",
    "# api = zillow.ValuationApi()\n",
    "# # Insert your Zillow API key here\n",
    "# zwsid = \"X1-ZWz1gm14kn7d3f_2kpit\"\n",
    "\n",
    "# valuation = []\n",
    "# sqft = []\n",
    "\n",
    "# for row, home in address_df.iterrows():\n",
    "#     print(row)\n",
    "#     address = address_df[\"house #\"][row] + \" \" + address_df[\"street\"][row] \n",
    "#     print(address)\n",
    "#     zipcode = address_df[\"zipcode\"][row]\n",
    "#     print(zipcode)\n",
    "    \n",
    "#     try:\n",
    "#         z_deep_results = api.GetDeepSearchResults(zwsid, address, zipcode)\n",
    "#         print(z_deep_results)\n",
    "#         pp.pprint(deep_results.get_dict())\n",
    "#         print(z_deep_results['zestimate']['amount'])\n",
    "#         valuation.append(z_deep_results['zestimate']['amount'])\n",
    "#         print(z_deep_results['extended_data']['finished_sqft'])\n",
    "#         sqft.append(z_deep_results['extended_data']['finished_sqft'])\n",
    "#     except:\n",
    "#         print(f\"No record found for {address}, {zipcode}.\")\n",
    "\n"
   ]
  },
  {
   "cell_type": "code",
   "execution_count": 90,
   "metadata": {},
   "outputs": [],
   "source": [
    "address = \"4804 Precipice Cove\"\n",
    "zipcode = \"78731\"\n",
    "\n",
    "zid = []\n",
    "valuation = []\n",
    "sqft = []\n",
    "isd = []\n",
    "\n",
    "\n",
    "##### VALERIE STILL WORKING ON THE LOOPING FUNCTION OF THIS #####\n",
    "###### HOWEVER, ZILLOW ONLY ALLOWS 1000 API CALLS PER DAY ######\n",
    "\n",
    "# for row, home in address_df.iterrows():\n",
    "#     print(row)\n",
    "#     print(home)\n",
    "# address = str(address_df[\"house #\"][1] + \" \" + address_df[\"street\"][1] )\n",
    "# print(address)\n",
    "# zipcode = str(address_df[\"zipcode\"][1])\n",
    "# print(zipcode)\n",
    "\n",
    "# print(f\"No record found for {address}, {zipcode} (index {row}).\")\n",
    "\n",
    "zillow_data = ZillowWrapper(Zyuta)\n",
    "deep_search_response = zillow_data.get_deep_search_results(address, zipcode)\n",
    "result = GetDeepSearchResults(deep_search_response)\n",
    "\n",
    "\n",
    "try:\n",
    "    zillowID = result.zillow_id\n",
    "    zid.append(result.zillow_id)\n",
    "except:\n",
    "    zid.append(None)\n",
    "\n",
    "try:    \n",
    "    val = result.zestimate_amount\n",
    "    valuation.append(val)\n",
    "except:\n",
    "    valuation.append(None)\n",
    "\n",
    "try:\n",
    "    zsqft = result.home_size\n",
    "    sqft.append(zsqft)\n",
    "except:\n",
    "    sqft.append(None)\n",
    "\n",
    "updated_property_details_response = zillow_data.get_updated_property_details(zillowID)\n",
    "new_result = GetUpdatedPropertyDetails(updated_property_details_response)\n",
    "\n",
    "try:\n",
    "    zisd = new_result.school_district\n",
    "    isd.append(zisd)\n",
    "except:\n",
    "    isd.append(None)"
   ]
  },
  {
   "cell_type": "code",
   "execution_count": 91,
   "metadata": {},
   "outputs": [
    {
     "name": "stdout",
     "output_type": "stream",
     "text": [
      "['2507628']\n"
     ]
    }
   ],
   "source": [
    "print(valuation)"
   ]
  },
  {
   "cell_type": "code",
   "execution_count": 7,
   "metadata": {},
   "outputs": [
    {
     "name": "stdout",
     "output_type": "stream",
     "text": [
      "[]\n"
     ]
    }
   ],
   "source": [
    "# Do not run yet\n",
    "\n",
    "# masterDF = pd.DataFrame({\n",
    "#     \"address\": house_num,\n",
    "#     \"zipcode\": postcode,\n",
    "#     \"alat\": lat,\n",
    "#     \"alon\": lon,\n",
    "#     \"neighborhood\": neighborhood,\n",
    "# })"
   ]
  },
  {
   "cell_type": "markdown",
   "metadata": {},
   "source": [
    "## Calculate Value per Sqft"
   ]
  },
  {
   "cell_type": "code",
   "execution_count": null,
   "metadata": {},
   "outputs": [],
   "source": [
    "#Create function to calculate value per sqft using \"zestimate\"[\"amount\"] / \"extended_data\"[\"finished_sqft\"]\n"
   ]
  },
  {
   "cell_type": "markdown",
   "metadata": {},
   "source": [
    "## Crime Data"
   ]
  },
  {
   "cell_type": "code",
   "execution_count": null,
   "metadata": {},
   "outputs": [],
   "source": [
    "# Kat's section"
   ]
  },
  {
   "cell_type": "markdown",
   "metadata": {},
   "source": [
    "## School Data"
   ]
  },
  {
   "cell_type": "code",
   "execution_count": null,
   "metadata": {},
   "outputs": [],
   "source": [
    "# Seth's section"
   ]
  }
 ],
 "metadata": {
  "kernelspec": {
   "display_name": "PythonData",
   "language": "python",
   "name": "pythondata"
  },
  "language_info": {
   "codemirror_mode": {
    "name": "ipython",
    "version": 3
   },
   "file_extension": ".py",
   "mimetype": "text/x-python",
   "name": "python",
   "nbconvert_exporter": "python",
   "pygments_lexer": "ipython3",
   "version": "3.6.5"
  }
 },
 "nbformat": 4,
 "nbformat_minor": 2
}
