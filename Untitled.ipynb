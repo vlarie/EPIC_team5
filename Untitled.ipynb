{
 "cells": [
  {
   "cell_type": "code",
   "execution_count": null,
   "metadata": {},
   "outputs": [],
   "source": [
    "mkdir git_pracice\n",
    "cd git_practice\n",
    "\n",
    "touch hello.py\n",
    "\n",
    "git add .\n",
    "\n",
    "hello.py\n",
    "git status\n",
    "git commit -m \"First commit.\"\n",
    "\n",
    "\n",
    "git checkout -b helpers\n",
    "touch helpers.py\n",
    "\n",
    "git add\n",
    "git checkout master\n",
    "\n",
    "ls\n",
    "\n",
    "git merge helpers\n",
    "ls\n",
    "\n",
    "git branch -d helpers"
   ]
  },
  {
   "cell_type": "code",
   "execution_count": 1,
   "metadata": {},
   "outputs": [
    {
     "data": {
      "text/plain": [
       "5"
      ]
     },
     "execution_count": 1,
     "metadata": {},
     "output_type": "execute_result"
    }
   ],
   "source": [
    "math = 2 + 3\n",
    "math"
   ]
  },
  {
   "cell_type": "code",
   "execution_count": null,
   "metadata": {},
   "outputs": [],
   "source": []
  }
 ],
 "metadata": {
  "kernelspec": {
   "display_name": "Python 3",
   "language": "python",
   "name": "python3"
  },
  "language_info": {
   "codemirror_mode": {
    "name": "ipython",
    "version": 3
   },
   "file_extension": ".py",
   "mimetype": "text/x-python",
   "name": "python",
   "nbconvert_exporter": "python",
   "pygments_lexer": "ipython3",
   "version": "3.6.5"
  }
 },
 "nbformat": 4,
 "nbformat_minor": 2
}
