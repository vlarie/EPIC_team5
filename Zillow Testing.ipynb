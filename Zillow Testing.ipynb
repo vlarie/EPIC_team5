{
 "cells": [
  {
   "cell_type": "markdown",
   "metadata": {},
   "source": [
    "## Dependencies"
   ]
  },
  {
   "cell_type": "code",
   "execution_count": null,
   "metadata": {},
   "outputs": [],
   "source": [
    "# Confirmed needed dependencies\n",
    "import zillow\n",
    "import random\n",
    "import pprint\n",
    "\n",
    "# Seth \n",
    "\n",
    "# Research how to make this truly invisible on GitHub Repo\n",
    "# from config import zwsid\n",
    "# Paste in your zwsid in the meantime using the following line\n",
    "# zwsid = \"\""
   ]
  },
  {
   "cell_type": "code",
   "execution_count": 15,
   "metadata": {},
   "outputs": [],
   "source": [
    "# Possibly needed, but not yet used dependencies\n",
    "import pandas as pd\n",
    "import requests\n",
    "import json"
   ]
  },
  {
   "cell_type": "code",
   "execution_count": null,
   "metadata": {},
   "outputs": [],
   "source": [
    "# Valerie\n",
    "\n",
    "# Further setting up Notebook with Markdown sections, file outputs, action comments, etc.\n",
    "# Create pandas dataframe "
   ]
  },
  {
   "cell_type": "markdown",
   "metadata": {},
   "source": [
    "## Geocoordinates of Austin"
   ]
  },
  {
   "cell_type": "code",
   "execution_count": null,
   "metadata": {},
   "outputs": [],
   "source": [
    "# Troy\n",
    "\n",
    "# Established latitude range (30.33.00 to 30.09.00)\n",
    "# Established longitude range (97.59.59 to 97.34.00)\n",
    "\n",
    "#Use center point and radius to generate coordinates\n",
    "\n",
    "# Generate random list of coordinates\n"
   ]
  },
  {
   "cell_type": "markdown",
   "metadata": {},
   "source": [
    "## *TODO: Find a way to convert coordinates to residential addresses"
   ]
  },
  {
   "cell_type": "code",
   "execution_count": null,
   "metadata": {},
   "outputs": [],
   "source": [
    "# Yuta\n",
    "\n",
    "#Play with found sources to see if they will work\n",
    "\n",
    "# Possible sources\n",
    "# https://stackoverflow.com/questions/11390392/return-individual-address-components-city-state-etc-from-geopy-geocoder\n",
    "\n",
    "# https://wiki.openstreetmap.org/wiki/Nominatim"
   ]
  },
  {
   "cell_type": "code",
   "execution_count": null,
   "metadata": {},
   "outputs": [],
   "source": [
    "# Kat's block"
   ]
  },
  {
   "cell_type": "markdown",
   "metadata": {},
   "source": [
    "## Zillow API Calls using Address and Zipcode"
   ]
  },
  {
   "cell_type": "code",
   "execution_count": 22,
   "metadata": {
    "scrolled": true
   },
   "outputs": [
    {
     "name": "stdout",
     "output_type": "stream",
     "text": [
      "{   'extended_data': {   'bathrooms': None,\n",
      "                         'bedrooms': None,\n",
      "                         'complete': False,\n",
      "                         'finished_sqft': None,\n",
      "                         'fips_county': None,\n",
      "                         'last_sold_date': None,\n",
      "                         'last_sold_price': None,\n",
      "                         'lot_size_sqft': None,\n",
      "                         'tax_assessment': None,\n",
      "                         'tax_assessment_year': None,\n",
      "                         'usecode': None,\n",
      "                         'year_built': None},\n",
      "    'full_address': {   'city': 'AUSTIN',\n",
      "                        'latitude': '30.342641',\n",
      "                        'longitude': '-97.718579',\n",
      "                        'state': 'TX',\n",
      "                        'street': '929 Cavalier Ln',\n",
      "                        'zipcode': '78757'},\n",
      "    'links': {   'comparables': 'http://www.zillow.com/homes/comps/119621219_zpid/',\n",
      "                 'graphs_and_data': 'http://www.zillow.com/homedetails/929-Cavalier-Ln-Austin-TX-78757/119621219_zpid/#charts-and-data',\n",
      "                 'home_details': 'https://www.zillow.com/homedetails/929-Cavalier-Ln-Austin-TX-78757/119621219_zpid/',\n",
      "                 'map_this_home': 'http://www.zillow.com/homes/119621219_zpid/'},\n",
      "    'local_realestate': {   'fsbo_link': 'http://www.zillow.com/crestview-austin-tx/fsbo/',\n",
      "                            'overview_link': 'http://www.zillow.com/local-info/TX-Austin/Crestview/r_271339/',\n",
      "                            'region_id': '271339',\n",
      "                            'region_name': 'Crestview',\n",
      "                            'region_type': 'neighborhood',\n",
      "                            'sale_link': 'http://www.zillow.com/crestview-austin-tx/',\n",
      "                            'zillow_home_value_index': None},\n",
      "    'similarity_score': None,\n",
      "    'zestimate': {   'amount': 492543,\n",
      "                     'amount_change_30days': 3903,\n",
      "                     'amount_currency': 'USD',\n",
      "                     'amount_last_updated': '08/23/2018',\n",
      "                     'valuation_range_high': 517170,\n",
      "                     'valuation_range_low': 467916},\n",
      "    'zpid': '119621219'}\n",
      "{   'extended_data': {   'bathrooms': '2.5',\n",
      "                         'bedrooms': '3',\n",
      "                         'complete': True,\n",
      "                         'finished_sqft': '1814',\n",
      "                         'fips_county': '48453',\n",
      "                         'last_sold_date': None,\n",
      "                         'last_sold_price': None,\n",
      "                         'lot_size_sqft': '3267',\n",
      "                         'tax_assessment': '477456.0',\n",
      "                         'tax_assessment_year': '2017',\n",
      "                         'usecode': 'SingleFamily',\n",
      "                         'year_built': '2014'},\n",
      "    'full_address': {   'city': 'AUSTIN',\n",
      "                        'latitude': '30.342641',\n",
      "                        'longitude': '-97.718579',\n",
      "                        'state': 'TX',\n",
      "                        'street': '929 Cavalier Ln',\n",
      "                        'zipcode': '78757'},\n",
      "    'links': {   'comparables': 'http://www.zillow.com/homes/comps/119621219_zpid/',\n",
      "                 'graphs_and_data': 'http://www.zillow.com/homedetails/929-Cavalier-Ln-Austin-TX-78757/119621219_zpid/#charts-and-data',\n",
      "                 'home_details': 'https://www.zillow.com/homedetails/929-Cavalier-Ln-Austin-TX-78757/119621219_zpid/',\n",
      "                 'map_this_home': 'http://www.zillow.com/homes/119621219_zpid/'},\n",
      "    'local_realestate': {   'fsbo_link': 'http://www.zillow.com/crestview-austin-tx/fsbo/',\n",
      "                            'overview_link': 'http://www.zillow.com/local-info/TX-Austin/Crestview/r_271339/',\n",
      "                            'region_id': '271339',\n",
      "                            'region_name': 'Crestview',\n",
      "                            'region_type': 'neighborhood',\n",
      "                            'sale_link': 'http://www.zillow.com/crestview-austin-tx/',\n",
      "                            'zillow_home_value_index': None},\n",
      "    'similarity_score': None,\n",
      "    'zestimate': {   'amount': 492543,\n",
      "                     'amount_change_30days': 3903,\n",
      "                     'amount_currency': 'USD',\n",
      "                     'amount_last_updated': '08/23/2018',\n",
      "                     'valuation_range_high': 517170,\n",
      "                     'valuation_range_low': 467916},\n",
      "    'zpid': '119621219'}\n"
     ]
    }
   ],
   "source": [
    "address = \"929 Cavalier Ln\" \n",
    "zipcode = \"78757\"\n",
    "\n",
    "pp = pprint.PrettyPrinter(indent=4)\n",
    "\n",
    "api = zillow.ValuationApi()\n",
    "\n",
    "\n",
    "#This appears to be the ideal search to use with the most flushed out info\n",
    "deep_results = api.GetDeepSearchResults(zwsid, address, zipcode)\n",
    "pp.pprint(deep_results.get_dict())\n",
    "\n",
    "\n",
    "# This appears to return the same as .GetZEstimate(),\n",
    "# but has less accurate \"extended_data\" than .GetDeepSearchResults\n",
    "# data = api.GetSearchResults(zwsid, address, zipcode)\n",
    "# pp.pprint(data.get_dict())\n",
    "\n",
    "\n",
    "# This appears to return the same as .GetSearchResults()\n",
    "# detail_data = api.GetZEstimate(zwsid, data.zpid)\n",
    "# pp.pprint(detail_data.get_dict())"
   ]
  },
  {
   "cell_type": "markdown",
   "metadata": {},
   "source": [
    "## Calculate Value per Sqft"
   ]
  },
  {
   "cell_type": "code",
   "execution_count": null,
   "metadata": {},
   "outputs": [],
   "source": [
    "# Seth\n",
    "\n",
    "#Create function to calculate value per sqft using \"zestimate\"[\"amount\"] / \"extended_data\"[\"finished_sqft\"]\n"
   ]
  }
 ],
 "metadata": {
  "kernelspec": {
   "display_name": "PythonData",
   "language": "python",
   "name": "pythondata"
  },
  "language_info": {
   "codemirror_mode": {
    "name": "ipython",
    "version": 3
   },
   "file_extension": ".py",
   "mimetype": "text/x-python",
   "name": "python",
   "nbconvert_exporter": "python",
   "pygments_lexer": "ipython3",
   "version": "3.6.5"
  }
 },
 "nbformat": 4,
 "nbformat_minor": 2
}
