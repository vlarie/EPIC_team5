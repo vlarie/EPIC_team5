{
 "cells": [
  {
   "cell_type": "markdown",
   "metadata": {},
   "source": [
    "## Dependencies"
   ]
  },
  {
   "cell_type": "code",
   "execution_count": 1,
   "metadata": {},
   "outputs": [],
   "source": [
    "# Confirmed needed dependencies\n",
    "import zillow\n",
    "import random\n",
    "import pprint\n",
    "\n",
    "# Seth \n",
    "\n",
    "# Research how to make this truly invisible on GitHub Repo\n",
    "# from config import zwsid\n",
    "# Paste in your zwsid in the meantime using the following line\n",
    "# zwsid = \"\""
   ]
  },
  {
   "cell_type": "code",
   "execution_count": 2,
   "metadata": {},
   "outputs": [
    {
     "name": "stderr",
     "output_type": "stream",
     "text": [
      "/Users/troybailey/anaconda3/envs/pythonData/lib/python3.6/importlib/_bootstrap.py:219: RuntimeWarning: numpy.dtype size changed, may indicate binary incompatibility. Expected 96, got 88\n",
      "  return f(*args, **kwds)\n",
      "/Users/troybailey/anaconda3/envs/pythonData/lib/python3.6/importlib/_bootstrap.py:219: RuntimeWarning: numpy.dtype size changed, may indicate binary incompatibility. Expected 96, got 88\n",
      "  return f(*args, **kwds)\n"
     ]
    }
   ],
   "source": [
    "# Possibly needed, but not yet used dependencies\n",
    "import pandas as pd\n",
    "import requests\n",
    "import json"
   ]
  },
  {
   "cell_type": "code",
   "execution_count": 3,
   "metadata": {},
   "outputs": [],
   "source": [
    "# Valerie\n",
    "\n",
    "# Further setting up Notebook with Markdown sections, file outputs, action comments, etc.\n",
    "# Create pandas dataframe "
   ]
  },
  {
   "cell_type": "markdown",
   "metadata": {},
   "source": [
    "## Geocoordinates of Austin"
   ]
  },
  {
   "cell_type": "code",
   "execution_count": 4,
   "metadata": {},
   "outputs": [],
   "source": [
    "##########################################\n",
    "# this section written by troy bailey.   #\n",
    "# enter uservariables below to determine #\n",
    "# center location, radius of circle, and #\n",
    "# number of geocoordinates to generate.  #\n",
    "##########################################\n",
    "\n",
    "# dependencies for geocoordinates generator\n",
    "import random\n",
    "import sys\n",
    "import math"
   ]
  },
  {
   "cell_type": "code",
   "execution_count": 5,
   "metadata": {},
   "outputs": [],
   "source": [
    "########################\n",
    "#### USER VARIABLES ####\n",
    "########################\n",
    "\n",
    "x0 = 30.27444       #### Set center coordiantes in decimal degrees\n",
    "y0 = -97.74028      #### initial coordiantes are location of Texas State Capitol Building\n",
    "\n",
    "radius = 10         #### Set radius in miles\n",
    "\n",
    "points = 200        #### Set number of lat,lon points to generate\n",
    "\n",
    "output_file_name = \"random_Lat_Lon.csv\" #### Set output file name "
   ]
  },
  {
   "cell_type": "code",
   "execution_count": 6,
   "metadata": {},
   "outputs": [],
   "source": [
    "# variables and inputs for coordinate calculations\n",
    "lat_lon_list = []\n",
    "radiusInDegrees=radius/69           \n",
    "r = radiusInDegrees\n",
    "points = points+1"
   ]
  },
  {
   "cell_type": "code",
   "execution_count": 7,
   "metadata": {},
   "outputs": [
    {
     "data": {
      "text/html": [
       "<div>\n",
       "<style scoped>\n",
       "    .dataframe tbody tr th:only-of-type {\n",
       "        vertical-align: middle;\n",
       "    }\n",
       "\n",
       "    .dataframe tbody tr th {\n",
       "        vertical-align: top;\n",
       "    }\n",
       "\n",
       "    .dataframe thead th {\n",
       "        text-align: right;\n",
       "    }\n",
       "</style>\n",
       "<table border=\"1\" class=\"dataframe\">\n",
       "  <thead>\n",
       "    <tr style=\"text-align: right;\">\n",
       "      <th></th>\n",
       "      <th>lat</th>\n",
       "      <th>lon</th>\n",
       "    </tr>\n",
       "  </thead>\n",
       "  <tbody>\n",
       "    <tr>\n",
       "      <th>0</th>\n",
       "      <td>30.322671</td>\n",
       "      <td>-97.702210</td>\n",
       "    </tr>\n",
       "    <tr>\n",
       "      <th>1</th>\n",
       "      <td>30.405773</td>\n",
       "      <td>-97.800212</td>\n",
       "    </tr>\n",
       "    <tr>\n",
       "      <th>2</th>\n",
       "      <td>30.292095</td>\n",
       "      <td>-97.746324</td>\n",
       "    </tr>\n",
       "    <tr>\n",
       "      <th>3</th>\n",
       "      <td>30.317465</td>\n",
       "      <td>-97.686401</td>\n",
       "    </tr>\n",
       "    <tr>\n",
       "      <th>4</th>\n",
       "      <td>30.411218</td>\n",
       "      <td>-97.747470</td>\n",
       "    </tr>\n",
       "  </tbody>\n",
       "</table>\n",
       "</div>"
      ],
      "text/plain": [
       "         lat        lon\n",
       "0  30.322671 -97.702210\n",
       "1  30.405773 -97.800212\n",
       "2  30.292095 -97.746324\n",
       "3  30.317465 -97.686401\n",
       "4  30.411218 -97.747470"
      ]
     },
     "execution_count": 7,
     "metadata": {},
     "output_type": "execute_result"
    }
   ],
   "source": [
    "# calculate each coordiante point and build a list of lat and lon\n",
    "for i in range(1, points):\n",
    "    u = float(random.uniform(0.0,1.0)) #random number for radius length\n",
    "    v = float(random.uniform(0.0,1.0)) #random number for pi radians\n",
    "    \n",
    "    w = r * math.sqrt(u) #radius length\n",
    "    t = 2 * math.pi * v  #radians\n",
    "    x = w * math.cos(t)  #calculate x coord distance\n",
    "    y = w * math.sin(t)  #calculate y coord distance\n",
    "    \n",
    "    xLat  = x + x0       #offset x by center x\n",
    "    yLon = y + y0        #offset y by center y\n",
    "    \n",
    "    lat_lon_list.append([xLat,yLon])\n",
    "\n",
    "# convert list to dataframe\n",
    "lat_lon_df = pd.DataFrame(lat_lon_list, columns=['lat','lon'])\n",
    "\n",
    "lat_lon_df.head()"
   ]
  },
  {
   "cell_type": "code",
   "execution_count": 8,
   "metadata": {},
   "outputs": [],
   "source": [
    "# write a CSV file of coordinate points\n",
    "lat_lon_df.to_csv(output_file_name, index=False, header=True)"
   ]
  },
  {
   "cell_type": "markdown",
   "metadata": {},
   "source": [
    "## *TODO: Find a way to convert coordinates to residential addresses"
   ]
  },
  {
   "cell_type": "code",
   "execution_count": null,
   "metadata": {},
   "outputs": [],
   "source": [
    "# Yuta\n",
    "\n",
    "#Play with found sources to see if they will work\n",
    "\n",
    "# Possible sources\n",
    "# https://stackoverflow.com/questions/11390392/return-individual-address-components-city-state-etc-from-geopy-geocoder\n",
    "\n",
    "# https://wiki.openstreetmap.org/wiki/Nominatim"
   ]
  },
  {
   "cell_type": "code",
   "execution_count": null,
   "metadata": {},
   "outputs": [],
   "source": [
    "# Kat's block"
   ]
  },
  {
   "cell_type": "markdown",
   "metadata": {},
   "source": [
    "## Zillow API Calls using Address and Zipcode"
   ]
  },
  {
   "cell_type": "code",
   "execution_count": 22,
   "metadata": {
    "scrolled": true
   },
   "outputs": [
    {
     "name": "stdout",
     "output_type": "stream",
     "text": [
      "{   'extended_data': {   'bathrooms': None,\n",
      "                         'bedrooms': None,\n",
      "                         'complete': False,\n",
      "                         'finished_sqft': None,\n",
      "                         'fips_county': None,\n",
      "                         'last_sold_date': None,\n",
      "                         'last_sold_price': None,\n",
      "                         'lot_size_sqft': None,\n",
      "                         'tax_assessment': None,\n",
      "                         'tax_assessment_year': None,\n",
      "                         'usecode': None,\n",
      "                         'year_built': None},\n",
      "    'full_address': {   'city': 'AUSTIN',\n",
      "                        'latitude': '30.342641',\n",
      "                        'longitude': '-97.718579',\n",
      "                        'state': 'TX',\n",
      "                        'street': '929 Cavalier Ln',\n",
      "                        'zipcode': '78757'},\n",
      "    'links': {   'comparables': 'http://www.zillow.com/homes/comps/119621219_zpid/',\n",
      "                 'graphs_and_data': 'http://www.zillow.com/homedetails/929-Cavalier-Ln-Austin-TX-78757/119621219_zpid/#charts-and-data',\n",
      "                 'home_details': 'https://www.zillow.com/homedetails/929-Cavalier-Ln-Austin-TX-78757/119621219_zpid/',\n",
      "                 'map_this_home': 'http://www.zillow.com/homes/119621219_zpid/'},\n",
      "    'local_realestate': {   'fsbo_link': 'http://www.zillow.com/crestview-austin-tx/fsbo/',\n",
      "                            'overview_link': 'http://www.zillow.com/local-info/TX-Austin/Crestview/r_271339/',\n",
      "                            'region_id': '271339',\n",
      "                            'region_name': 'Crestview',\n",
      "                            'region_type': 'neighborhood',\n",
      "                            'sale_link': 'http://www.zillow.com/crestview-austin-tx/',\n",
      "                            'zillow_home_value_index': None},\n",
      "    'similarity_score': None,\n",
      "    'zestimate': {   'amount': 492543,\n",
      "                     'amount_change_30days': 3903,\n",
      "                     'amount_currency': 'USD',\n",
      "                     'amount_last_updated': '08/23/2018',\n",
      "                     'valuation_range_high': 517170,\n",
      "                     'valuation_range_low': 467916},\n",
      "    'zpid': '119621219'}\n",
      "{   'extended_data': {   'bathrooms': '2.5',\n",
      "                         'bedrooms': '3',\n",
      "                         'complete': True,\n",
      "                         'finished_sqft': '1814',\n",
      "                         'fips_county': '48453',\n",
      "                         'last_sold_date': None,\n",
      "                         'last_sold_price': None,\n",
      "                         'lot_size_sqft': '3267',\n",
      "                         'tax_assessment': '477456.0',\n",
      "                         'tax_assessment_year': '2017',\n",
      "                         'usecode': 'SingleFamily',\n",
      "                         'year_built': '2014'},\n",
      "    'full_address': {   'city': 'AUSTIN',\n",
      "                        'latitude': '30.342641',\n",
      "                        'longitude': '-97.718579',\n",
      "                        'state': 'TX',\n",
      "                        'street': '929 Cavalier Ln',\n",
      "                        'zipcode': '78757'},\n",
      "    'links': {   'comparables': 'http://www.zillow.com/homes/comps/119621219_zpid/',\n",
      "                 'graphs_and_data': 'http://www.zillow.com/homedetails/929-Cavalier-Ln-Austin-TX-78757/119621219_zpid/#charts-and-data',\n",
      "                 'home_details': 'https://www.zillow.com/homedetails/929-Cavalier-Ln-Austin-TX-78757/119621219_zpid/',\n",
      "                 'map_this_home': 'http://www.zillow.com/homes/119621219_zpid/'},\n",
      "    'local_realestate': {   'fsbo_link': 'http://www.zillow.com/crestview-austin-tx/fsbo/',\n",
      "                            'overview_link': 'http://www.zillow.com/local-info/TX-Austin/Crestview/r_271339/',\n",
      "                            'region_id': '271339',\n",
      "                            'region_name': 'Crestview',\n",
      "                            'region_type': 'neighborhood',\n",
      "                            'sale_link': 'http://www.zillow.com/crestview-austin-tx/',\n",
      "                            'zillow_home_value_index': None},\n",
      "    'similarity_score': None,\n",
      "    'zestimate': {   'amount': 492543,\n",
      "                     'amount_change_30days': 3903,\n",
      "                     'amount_currency': 'USD',\n",
      "                     'amount_last_updated': '08/23/2018',\n",
      "                     'valuation_range_high': 517170,\n",
      "                     'valuation_range_low': 467916},\n",
      "    'zpid': '119621219'}\n"
     ]
    }
   ],
   "source": [
    "address = \"929 Cavalier Ln\" \n",
    "zipcode = \"78757\"\n",
    "\n",
    "pp = pprint.PrettyPrinter(indent=4)\n",
    "\n",
    "api = zillow.ValuationApi()\n",
    "\n",
    "\n",
    "#This appears to be the ideal search to use with the most flushed out info\n",
    "deep_results = api.GetDeepSearchResults(zwsid, address, zipcode)\n",
    "pp.pprint(deep_results.get_dict())\n",
    "\n",
    "\n",
    "# This appears to return the same as .GetZEstimate(),\n",
    "# but has less accurate \"extended_data\" than .GetDeepSearchResults\n",
    "# data = api.GetSearchResults(zwsid, address, zipcode)\n",
    "# pp.pprint(data.get_dict())\n",
    "\n",
    "\n",
    "# This appears to return the same as .GetSearchResults()\n",
    "# detail_data = api.GetZEstimate(zwsid, data.zpid)\n",
    "# pp.pprint(detail_data.get_dict())"
   ]
  },
  {
   "cell_type": "markdown",
   "metadata": {},
   "source": [
    "## Calculate Value per Sqft"
   ]
  },
  {
   "cell_type": "code",
   "execution_count": null,
   "metadata": {},
   "outputs": [],
   "source": [
    "# Seth\n",
    "\n",
    "#Create function to calculate value per sqft using \"zestimate\"[\"amount\"] / \"extended_data\"[\"finished_sqft\"]\n"
   ]
  }
 ],
 "metadata": {
  "kernelspec": {
   "display_name": "Python 3",
   "language": "python",
   "name": "python3"
  },
  "language_info": {
   "codemirror_mode": {
    "name": "ipython",
    "version": 3
   },
   "file_extension": ".py",
   "mimetype": "text/x-python",
   "name": "python",
   "nbconvert_exporter": "python",
   "pygments_lexer": "ipython3",
   "version": "3.6.4"
  }
 },
 "nbformat": 4,
 "nbformat_minor": 2
}
